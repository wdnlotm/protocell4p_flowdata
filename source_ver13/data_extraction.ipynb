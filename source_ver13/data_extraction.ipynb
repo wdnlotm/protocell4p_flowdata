{
 "cells": [
  {
   "cell_type": "code",
   "execution_count": 1,
   "id": "5a87bfe1-b080-463e-935b-690dc63302d0",
   "metadata": {},
   "outputs": [],
   "source": [
    "import os\n",
    "import torch\n",
    "import numpy as np\n",
    "import pandas as pd\n",
    "import scanpy as sc\n",
    "from scipy import sparse\n",
    "import tqdm\n",
    "from torch.utils.data import Dataset\n",
    "import pickle"
   ]
  },
  {
   "cell_type": "code",
   "execution_count": 3,
   "id": "f8ab6400-4dc9-4bc1-9e0d-1429b120d6fc",
   "metadata": {},
   "outputs": [],
   "source": [
    "#data_dir = \"../data/rh2_cf5_tcell_type16_veh\"\n",
    "data_dir = \"../data/rh2_cf5_tcell_dim22_allcond_imp_v_noimp\"\n",
    "load_ct=True\n",
    "keep_sparse=False"
   ]
  },
  {
   "cell_type": "code",
   "execution_count": 4,
   "id": "e8769583-c5d5-4857-b9ab-feabd0514833",
   "metadata": {},
   "outputs": [
    {
     "name": "stderr",
     "output_type": "stream",
     "text": [
      "100%|██████████| 16/16 [00:05<00:00,  2.82it/s]"
     ]
    },
    {
     "name": "stdout",
     "output_type": "stream",
     "text": [
      "[Size of dataset] IMPRV: 8 | NoIMP: 8\n"
     ]
    },
    {
     "name": "stderr",
     "output_type": "stream",
     "text": [
      "\n"
     ]
    }
   ],
   "source": [
    "genes = open(os.path.join(data_dir, \"genes.txt\")).read().strip().split(\"\\n\") #done\n",
    "barcodes = open(os.path.join(data_dir, \"barcodes.txt\")).read().strip().split(\"\\n\") #done\n",
    "meta = pd.read_csv(os.path.join(data_dir, \"meta.csv\"), sep=\",\") #done\n",
    "cell_types = pd.read_csv(os.path.join(data_dir, \"cell_types.txt\"), \n",
    "                         sep=\"\\t\").reset_index(drop=True)[\"Category\"]  #done\n",
    "\n",
    "ct_id = sorted(set(cell_types))\n",
    "mapping_ct = {c:idx for idx, c in enumerate(ct_id)}\n",
    "\n",
    "X = []\n",
    "y = []\n",
    "ct = []\n",
    "\n",
    "adata_np_array = np.genfromtxt(os.path.join(data_dir, \"RawCounts.csv\"), delimiter=',',dtype=\"float32\") #done\n",
    "adata = sc.AnnData(adata_np_array, obs=barcodes ,var=genes) #done\n",
    "\n",
    "barcodes = adata.obs[0].tolist()  #good\n",
    "genes = adata.var[0].tolist()  #good\n",
    "\n",
    "#adata = sc.AnnData(dat.astype(np.float32), obs=barcodes, var=genes)\n",
    "# adata = sc.AnnData(dat.astype(np.float32))\n",
    "# before: (32588, 32871) | after: (32588, 29696)\n",
    "#sc.pp.filter_genes(adata, min_cells=5)\n",
    "#sc.pp.normalize_total(adata, target_sum=1e4)\n",
    "# sc.pp.scale(adata, max_value=10, zero_center=True)\n",
    "\n",
    "# if keep_sparse is False:\n",
    "#     adata.X = adata.X.toarray()\n",
    "\n",
    "for ind in tqdm.tqdm(sorted(set(meta.donor_id))):\n",
    "    disease = list(set(meta.disease__ontology_label[meta.donor_id == ind]))\n",
    "    assert len(disease) == 1\n",
    "    if disease[0] == \"long COVID-19\" or disease[0] == \"respiratory failure\":\n",
    "        continue\n",
    "    x = adata.X[meta.donor_id == ind]\n",
    "    X.append(x)\n",
    "    y.append(disease[0])\n",
    "    ct.append([mapping_ct[c] for c in cell_types[meta.donor_id == ind]])\n",
    "\n",
    "class_id = sorted(set(y))\n",
    "mapping = {c:idx for idx, c in enumerate(class_id)}\n",
    "y = [mapping[c] for c in y]\n",
    " \n",
    "# [Size of dataset] COVID-19: 35 | long COVID-19: 2 | normal: 15 | respiratory failure: 6\n",
    "print((\"[Size of dataset] \"+\" | \".join([\"{:s}: {:d}\"] * len(class_id))).format(*[item for i in range(len(class_id)) for item in [class_id[i], y.count(i)]]))\n",
    "\n"
   ]
  },
  {
   "cell_type": "code",
   "execution_count": 5,
   "id": "ce9955ee-1760-48b8-99e4-3d5272fd1b54",
   "metadata": {},
   "outputs": [],
   "source": [
    "from load_data_cytof_ver013 import OurDataset\n",
    "data_for_outside = OurDataset(X=X, y=y, cell_id=barcodes, gene_id=genes, class_id=class_id, ct=ct, ct_id=ct_id)"
   ]
  },
  {
   "cell_type": "code",
   "execution_count": 6,
   "id": "e7739b8c-6087-4699-99b4-27178e7d9819",
   "metadata": {},
   "outputs": [
    {
     "data": {
      "text/plain": [
       "load_data_cytof_ver013.OurDataset"
      ]
     },
     "execution_count": 6,
     "metadata": {},
     "output_type": "execute_result"
    }
   ],
   "source": [
    "type(data_for_outside)"
   ]
  },
  {
   "cell_type": "code",
   "execution_count": 7,
   "id": "5fb7bfef",
   "metadata": {},
   "outputs": [],
   "source": [
    "import pickle\n",
    "with open('alldata_from_load_data.pkl', 'wb') as file: \n",
    "    pickle.dump(data_for_outside, file)"
   ]
  },
  {
   "cell_type": "code",
   "execution_count": 8,
   "id": "4c2c73d2",
   "metadata": {},
   "outputs": [
    {
     "data": {
      "text/plain": [
       "load_data_cytof_ver013.OurDataset"
      ]
     },
     "execution_count": 8,
     "metadata": {},
     "output_type": "execute_result"
    }
   ],
   "source": [
    "import pickle\n",
    "with open('alldata_from_load_data.pkl', 'rb') as file: \n",
    "    alldata_from_load_data = pickle.load(file)\n",
    "    \n",
    "type(alldata_from_load_data)"
   ]
  },
  {
   "cell_type": "code",
   "execution_count": 9,
   "id": "c6f4cf7d-f69b-4d81-9212-ad23a66089b3",
   "metadata": {},
   "outputs": [
    {
     "data": {
      "text/plain": [
       "(tuple, 3)"
      ]
     },
     "execution_count": 9,
     "metadata": {},
     "output_type": "execute_result"
    }
   ],
   "source": [
    "type(data_for_outside[0]), len(data_for_outside[0])"
   ]
  },
  {
   "cell_type": "code",
   "execution_count": null,
   "id": "ae18495c-3d6f-4c9c-8166-f18b4f7fa706",
   "metadata": {},
   "outputs": [],
   "source": [
    "type(data_for_outside.X)"
   ]
  },
  {
   "cell_type": "code",
   "execution_count": null,
   "id": "4d616c62-9073-4a66-bcc1-06417444176c",
   "metadata": {},
   "outputs": [],
   "source": [
    "type(data_for_outside.X),len(data_for_outside.X), type(data_for_outside.y),len(data_for_outside.y) "
   ]
  },
  {
   "cell_type": "code",
   "execution_count": null,
   "id": "26edf073-b3ae-4794-bc63-e7fab70e7cfd",
   "metadata": {},
   "outputs": [],
   "source": [
    "type(data_for_outside.ct),len(data_for_outside.ct) "
   ]
  },
  {
   "cell_type": "code",
   "execution_count": null,
   "id": "2fe3fb94-cad8-40e3-8809-29b283ef720a",
   "metadata": {},
   "outputs": [],
   "source": [
    "data_for_outside.X[1].shape"
   ]
  },
  {
   "cell_type": "code",
   "execution_count": 10,
   "id": "586260ec-1c8b-497a-aad6-1409b46b0dc5",
   "metadata": {},
   "outputs": [],
   "source": [
    "from sklearn.model_selection import train_test_split"
   ]
  },
  {
   "cell_type": "code",
   "execution_count": 11,
   "id": "fb74ffcb-4230-4146-8c40-9dde54dc3aa7",
   "metadata": {},
   "outputs": [],
   "source": [
    "# self.train_set, self.test_set\n",
    "seed_numb = 123\n",
    "torch.manual_seed(seed_numb)\n",
    "torch.cuda.manual_seed(seed_numb)\n",
    "split_ratio = [0.5, 0.25, 0.25]\n",
    "#all_data, test_data = train_test_split(data_for_outside, test_size=0.25, shuffle=False, random_state=seed_numb)\n",
    "train_set, test_set = train_test_split(data_for_outside, test_size=split_ratio[2], random_state=seed_numb)\n",
    "train_set, val_set = train_test_split(train_set, test_size=split_ratio[1] / (1-split_ratio[2]), random_state=seed_numb)"
   ]
  },
  {
   "cell_type": "code",
   "execution_count": 12,
   "id": "a2c1b90c",
   "metadata": {},
   "outputs": [
    {
     "data": {
      "text/plain": [
       "8"
      ]
     },
     "execution_count": 12,
     "metadata": {},
     "output_type": "execute_result"
    }
   ],
   "source": [
    "len(train_set)"
   ]
  },
  {
   "cell_type": "code",
   "execution_count": 13,
   "id": "1eab0ad3-4944-4002-8f81-cc24aa46adb1",
   "metadata": {},
   "outputs": [
    {
     "name": "stdout",
     "output_type": "stream",
     "text": [
      "78892\n",
      "76057\n",
      "61938\n",
      "124755\n",
      "223449\n",
      "223162\n",
      "25799\n",
      "102217\n"
     ]
    }
   ],
   "source": [
    "for ii in range(len(train_set)):\n",
    "    print(train_set[ii][0].shape[0])\n",
    "    # total_sum = total_sum + all_data[ii][0].shape[0]\n",
    "\n",
    "# print(total_sum)"
   ]
  },
  {
   "cell_type": "code",
   "execution_count": 14,
   "id": "d14e9df4-0e9b-4334-b6b0-d82c77c011c8",
   "metadata": {},
   "outputs": [
    {
     "name": "stdout",
     "output_type": "stream",
     "text": [
      "99436\n",
      "93515\n",
      "111811\n",
      "54582\n"
     ]
    }
   ],
   "source": [
    "for ii in range(len(val_set)):\n",
    "    print(val_set[ii][0].shape[0])\n",
    "    # total_sum = total_sum + all_data[ii][0].shape[0]\n",
    "\n",
    "# print(total_sum)"
   ]
  },
  {
   "cell_type": "code",
   "execution_count": 15,
   "id": "e8c39656-3e26-48c9-887f-043e51c89325",
   "metadata": {},
   "outputs": [
    {
     "name": "stdout",
     "output_type": "stream",
     "text": [
      "17351\n",
      "156563\n",
      "153867\n",
      "118884\n"
     ]
    }
   ],
   "source": [
    "\n",
    "for ii in range(len(test_set)):\n",
    "    print(test_set[ii][0].shape[0])\n",
    "    # total_sum = total_sum + all_data[ii][0].shape[0]\n",
    "\n",
    "# print(total_sum)"
   ]
  },
  {
   "cell_type": "code",
   "execution_count": 16,
   "id": "b2a8876e",
   "metadata": {},
   "outputs": [
    {
     "name": "stdout",
     "output_type": "stream",
     "text": [
      "train_set_123_0.5.pkl val_set_123_0.5.pkl test_set_123_0.5.pkl\n"
     ]
    }
   ],
   "source": [
    "# seed_numb = 123\n",
    "# split_ratio = [0.55, 0.225, 0.225]\n",
    "\n",
    "trainset_fn = 'train_set_'+str(seed_numb)+'_'+str(split_ratio[0])+'.pkl'\n",
    "valset_fn = 'val_set_'+str(seed_numb)+'_'+str(split_ratio[0])+'.pkl'\n",
    "testset_fn = 'test_set_'+str(seed_numb)+'_'+str(split_ratio[0])+'.pkl'\n",
    "\n",
    "print(trainset_fn, valset_fn, testset_fn)\n"
   ]
  },
  {
   "cell_type": "code",
   "execution_count": 17,
   "id": "8cabda0b-a706-42a8-9a32-ca9c508ad2ca",
   "metadata": {},
   "outputs": [],
   "source": [
    "import pickle\n",
    "\n",
    "with open(trainset_fn, 'wb') as file: \n",
    "    pickle.dump(train_set, file)\n",
    "\n",
    "with open(valset_fn, 'wb') as file: \n",
    "    pickle.dump(val_set, file)\n",
    "\n",
    "with open(testset_fn, 'wb') as file: \n",
    "    pickle.dump(test_set, file)"
   ]
  },
  {
   "cell_type": "code",
   "execution_count": null,
   "id": "ac0cdfd7",
   "metadata": {},
   "outputs": [],
   "source": [
    "import pickle\n",
    "with open(trainset_fn, 'rb') as file:   #Myles added\n",
    "    train_set = pickle.load(file)    \n",
    "    \n",
    "with open(valset_fn, 'rb') as file:   #Myles added\n",
    "    val_set = pickle.load(file)    \n",
    "        \n",
    "with open(testset_fn, 'rb') as file:   #Myles added\n",
    "    test_set = pickle.load(file)    "
   ]
  },
  {
   "cell_type": "code",
   "execution_count": 18,
   "id": "ac422942",
   "metadata": {},
   "outputs": [
    {
     "data": {
      "text/plain": [
       "(8, 4, 4)"
      ]
     },
     "execution_count": 18,
     "metadata": {},
     "output_type": "execute_result"
    }
   ],
   "source": [
    "len(train_set),len(val_set), len(test_set)"
   ]
  },
  {
   "cell_type": "code",
   "execution_count": 19,
   "id": "2ac9e7b8-344c-4524-aebe-fdca62185c68",
   "metadata": {},
   "outputs": [],
   "source": [
    "all_data = train_set"
   ]
  },
  {
   "cell_type": "code",
   "execution_count": 20,
   "id": "c5a70e2e-3296-4d5f-afc8-275ffd5aa7cb",
   "metadata": {},
   "outputs": [
    {
     "data": {
      "text/plain": [
       "12"
      ]
     },
     "execution_count": 20,
     "metadata": {},
     "output_type": "execute_result"
    }
   ],
   "source": [
    "for ii in range(len(val_set)):\n",
    "  all_data.append(val_set[ii])  \n",
    "# all_data.append(val_set[0])\n",
    "# all_data.append(val_set[1])\n",
    "# all_data.append(val_set[2])\n",
    "# all_data.append(val_set[3])\n",
    "# all_data.append(val_set[4])\n",
    "\n",
    "len(all_data)"
   ]
  },
  {
   "cell_type": "code",
   "execution_count": 21,
   "id": "f0e1bdbf",
   "metadata": {},
   "outputs": [
    {
     "data": {
      "text/plain": [
       "16"
      ]
     },
     "execution_count": 21,
     "metadata": {},
     "output_type": "execute_result"
    }
   ],
   "source": [
    "for ii in range(len(test_set)):\n",
    "      all_data.append(test_set[ii])  \n",
    "# all_data.append(val_set[0])\n",
    "# all_data.append(val_set[1])\n",
    "# all_data.append(val_set[2])\n",
    "# all_data.append(val_set[3])\n",
    "# all_data.append(val_set[4])\n",
    "\n",
    "len(all_data)"
   ]
  },
  {
   "cell_type": "code",
   "execution_count": 22,
   "id": "2c34c22c",
   "metadata": {},
   "outputs": [],
   "source": [
    "with open('all_data_123_0.5.pkl', 'wb') as file: \n",
    "    pickle.dump(all_data, file)"
   ]
  },
  {
   "cell_type": "code",
   "execution_count": 3,
   "id": "0e9bfb61-6249-4c24-87df-8cb597a0ff44",
   "metadata": {},
   "outputs": [
    {
     "name": "stdout",
     "output_type": "stream",
     "text": [
      "78892\n",
      "76057\n",
      "61938\n",
      "124755\n",
      "223449\n",
      "223162\n",
      "25799\n",
      "102217\n",
      "99436\n",
      "93515\n",
      "111811\n",
      "54582\n",
      "17351\n",
      "156563\n",
      "153867\n",
      "118884\n"
     ]
    }
   ],
   "source": [
    "for ii in range(16):\n",
    "    print(all_data[ii][0].shape[0])\n",
    "    # total_sum = total_sum + all_data[ii][0].shape[0]\n",
    "\n",
    "# print(total_sum)"
   ]
  },
  {
   "cell_type": "code",
   "execution_count": 2,
   "id": "a9b21fbb",
   "metadata": {},
   "outputs": [],
   "source": [
    "with open('all_data_123_0.5.pkl', 'rb') as file: \n",
    "    all_data = pickle.load(file)"
   ]
  },
  {
   "cell_type": "code",
   "execution_count": 3,
   "id": "caaeb6f9",
   "metadata": {},
   "outputs": [],
   "source": [
    "selected_data = []\n",
    "selected_data.append(all_data[5])\n",
    "selected_data.append(all_data[8])\n",
    "selected_data.append(all_data[13])"
   ]
  },
  {
   "cell_type": "code",
   "execution_count": 4,
   "id": "f7f5fd7f",
   "metadata": {},
   "outputs": [
    {
     "data": {
      "text/plain": [
       "((223162, 22), (99436, 22), (156563, 22))"
      ]
     },
     "execution_count": 4,
     "metadata": {},
     "output_type": "execute_result"
    }
   ],
   "source": [
    "selected_data[0][0]. shape,selected_data[1][0].shape, selected_data[2][0].shape"
   ]
  },
  {
   "cell_type": "code",
   "execution_count": 10,
   "id": "a3958b92",
   "metadata": {},
   "outputs": [],
   "source": [
    "with open('RH2_selected_1034_1007_1072.pkl', 'wb') as file: \n",
    "    pickle.dump(selected_data, file)"
   ]
  },
  {
   "cell_type": "code",
   "execution_count": 4,
   "id": "fe767adc-e33d-4519-91ce-f939691a1a59",
   "metadata": {},
   "outputs": [
    {
     "data": {
      "text/plain": [
       "tuple"
      ]
     },
     "execution_count": 4,
     "metadata": {},
     "output_type": "execute_result"
    }
   ],
   "source": [
    "type(all_data[15])"
   ]
  },
  {
   "cell_type": "code",
   "execution_count": 5,
   "id": "a200e67f-754c-427f-afff-b3b69c437286",
   "metadata": {},
   "outputs": [
    {
     "data": {
      "text/plain": [
       "list"
      ]
     },
     "execution_count": 5,
     "metadata": {},
     "output_type": "execute_result"
    }
   ],
   "source": [
    "type(all_data)"
   ]
  },
  {
   "cell_type": "code",
   "execution_count": null,
   "id": "1f4088a6-ae01-41e6-927b-c1865f33d0e7",
   "metadata": {},
   "outputs": [],
   "source": [
    "len(all_data)"
   ]
  },
  {
   "cell_type": "code",
   "execution_count": null,
   "id": "49b076f5-b605-4c31-ac81-e868e6cf8302",
   "metadata": {},
   "outputs": [],
   "source": []
  },
  {
   "cell_type": "code",
   "execution_count": null,
   "id": "59ce4799-681b-497d-bfff-57ef957d1901",
   "metadata": {},
   "outputs": [],
   "source": []
  },
  {
   "cell_type": "code",
   "execution_count": null,
   "id": "c686d356-cac5-4df2-ab13-7937b7375404",
   "metadata": {},
   "outputs": [],
   "source": []
  },
  {
   "cell_type": "code",
   "execution_count": null,
   "id": "cea0e6d1-9da8-45fd-8493-086325187e81",
   "metadata": {},
   "outputs": [],
   "source": [
    "for ii in range(16):\n",
    "    print(all_data[ii][1])"
   ]
  },
  {
   "cell_type": "code",
   "execution_count": null,
   "id": "37f1340b-5532-49cb-b335-834d8473b148",
   "metadata": {},
   "outputs": [],
   "source": []
  },
  {
   "cell_type": "code",
   "execution_count": null,
   "id": "02b5092f-116f-4243-9795-ca05c5acea4b",
   "metadata": {},
   "outputs": [],
   "source": [
    "del all_data"
   ]
  },
  {
   "cell_type": "code",
   "execution_count": null,
   "id": "183640af-2aae-4c04-bca2-f1304cb0dce1",
   "metadata": {},
   "outputs": [],
   "source": [
    "import pickle\n",
    "with open('all_data_hf_il1b_week0.pkl', 'rb') as file: \n",
    "    all_data = pickle.load(file)"
   ]
  },
  {
   "cell_type": "code",
   "execution_count": null,
   "id": "aae737d3-2eb7-474f-8a17-d6e13753582e",
   "metadata": {},
   "outputs": [],
   "source": [
    "len(test_data[0])"
   ]
  },
  {
   "cell_type": "code",
   "execution_count": null,
   "id": "e0915c52-ca9a-4a20-86d7-39105763fc73",
   "metadata": {},
   "outputs": [],
   "source": [
    "test_data[0][1]"
   ]
  },
  {
   "cell_type": "code",
   "execution_count": null,
   "id": "127733b0-89aa-42aa-ab7a-60309dabe51f",
   "metadata": {},
   "outputs": [],
   "source": [
    "test_data[0]"
   ]
  },
  {
   "cell_type": "code",
   "execution_count": null,
   "id": "370bbbe4-507c-4b30-bbf3-5d5cd02fa7ae",
   "metadata": {},
   "outputs": [],
   "source": [
    "all_data[15]"
   ]
  },
  {
   "cell_type": "code",
   "execution_count": null,
   "id": "03dbc458-9f59-421c-b8e5-f1d758968af9",
   "metadata": {},
   "outputs": [],
   "source": [
    "len(all_data),len(test_data)"
   ]
  },
  {
   "cell_type": "code",
   "execution_count": null,
   "id": "74854198-3b83-491e-98ee-7e5b2ee0dce7",
   "metadata": {},
   "outputs": [],
   "source": [
    "alll_data = [all_data, test_data]"
   ]
  },
  {
   "cell_type": "code",
   "execution_count": null,
   "id": "02a2ccf9-f5d5-4e38-953d-2f76fb44833a",
   "metadata": {},
   "outputs": [],
   "source": [
    "len(alll_data)"
   ]
  },
  {
   "cell_type": "code",
   "execution_count": null,
   "id": "b48bc202-3457-4523-acb2-ecb355846f3d",
   "metadata": {},
   "outputs": [],
   "source": [
    "len(data_for_outside.X)\n",
    "data_for_outside.X[0].shape, type(data_for_outside.X[0])"
   ]
  },
  {
   "cell_type": "code",
   "execution_count": null,
   "id": "eba696e9-757d-4faf-9595-8d2d7eb3796f",
   "metadata": {},
   "outputs": [],
   "source": [
    "# device = \"cuda:0\"\n",
    "device = \"cpu\"\n",
    "stacked_X = torch.cat([torch.tensor(data_for_outside.X[i]) for i in range(24)]).to(device)"
   ]
  },
  {
   "cell_type": "code",
   "execution_count": null,
   "id": "902bb16d-9a57-4bd9-b7d9-e713ae67e7e1",
   "metadata": {},
   "outputs": [],
   "source": [
    "type(stacked_X), stacked_X.shape"
   ]
  },
  {
   "cell_type": "code",
   "execution_count": null,
   "id": "2599204a-24bd-45f9-955f-6ba309740905",
   "metadata": {},
   "outputs": [],
   "source": []
  },
  {
   "cell_type": "code",
   "execution_count": null,
   "id": "5f47f108-1ecb-4cfc-bbd4-f775503bf099",
   "metadata": {},
   "outputs": [],
   "source": []
  },
  {
   "cell_type": "code",
   "execution_count": null,
   "id": "b24017ac-9ce3-4f2c-9854-5bf470f327bb",
   "metadata": {},
   "outputs": [],
   "source": []
  },
  {
   "cell_type": "code",
   "execution_count": null,
   "id": "364cb1cc-ad30-43d3-8ed2-6af63f9efdc6",
   "metadata": {},
   "outputs": [],
   "source": [
    "%store -r model_copy\n",
    "from torchinfo import summary\n",
    "summary(model_copy)"
   ]
  },
  {
   "cell_type": "code",
   "execution_count": null,
   "id": "b163715c-cfe0-43db-9edb-85f0bcc2e391",
   "metadata": {},
   "outputs": [],
   "source": [
    "# Loading best or last model\n",
    "model_copy.load_state_dict(torch.load(\"../checkpoint/rh2_cf5_tcell_type16_veh/protocell_rh2_cf5_tcell_type16_veh_16_8_testing_w_cpu/last_model.pt\"))\n",
    "model_copy.eval()\n",
    "#config.model.load_state_dict(torch.load(\"../checkpoint/rh2_1mil_16d_veh/protocell_rh2_dim16_veh_wo_pretrain_123_latent_reconstruct_16_8/best_model.pt\"))"
   ]
  },
  {
   "cell_type": "code",
   "execution_count": null,
   "id": "c268b58a-82b5-4438-a16a-845c2599c5d3",
   "metadata": {},
   "outputs": [],
   "source": [
    "# for p in model_copy.parameters():\n",
    "#     if p.requires_grad:\n",
    "#          print(p.name, p.data)"
   ]
  },
  {
   "cell_type": "code",
   "execution_count": null,
   "id": "97f3489c-8eaf-4331-a9f5-e6662b519778",
   "metadata": {},
   "outputs": [],
   "source": [
    "stacked_X_tensor_latent_space = model_copy.encode(stacked_X)"
   ]
  },
  {
   "cell_type": "code",
   "execution_count": null,
   "id": "6133fefc-000e-4578-b877-f19dcc1889d5",
   "metadata": {},
   "outputs": [],
   "source": [
    "type(stacked_X_tensor_latent_space), stacked_X_tensor_latent_space.shape"
   ]
  },
  {
   "cell_type": "code",
   "execution_count": null,
   "id": "b0d09a3b-2ecf-48e5-a2ce-7dc5b81f502d",
   "metadata": {},
   "outputs": [],
   "source": [
    "array_latent_space = stacked_X_tensor_latent_space.cpu().detach().numpy()"
   ]
  },
  {
   "cell_type": "code",
   "execution_count": null,
   "id": "196c43d2-4af5-4bb6-b57f-6f47d2435a87",
   "metadata": {},
   "outputs": [],
   "source": [
    "array_latent_space.shape, type(array_latent_space)"
   ]
  },
  {
   "cell_type": "code",
   "execution_count": null,
   "id": "f54d8f9a-ea3d-4251-8ea0-bd731d1f50da",
   "metadata": {},
   "outputs": [],
   "source": [
    "np.savetxt(\"array_latent_space.csv\",array_latent_space, delimiter=\",\")import umap"
   ]
  },
  {
   "cell_type": "code",
   "execution_count": null,
   "id": "20a5f0a3-83cf-4738-9c77-982be198fa35",
   "metadata": {},
   "outputs": [],
   "source": [
    "import umap"
   ]
  },
  {
   "cell_type": "code",
   "execution_count": null,
   "id": "537a13f4-291b-440a-a063-3500a7afc8c4",
   "metadata": {},
   "outputs": [],
   "source": [
    "embedding = umap.UMAP(n_neighbors=15, min_dist=0.01, metric='euclidean').fit_transform(array_latent_space) #[0:10000,0:8]"
   ]
  },
  {
   "cell_type": "code",
   "execution_count": null,
   "id": "52a660f7-ec4c-4b87-a410-f3634f2c8906",
   "metadata": {},
   "outputs": [],
   "source": [
    "import pickle\n",
    "with open('umap_full.pkl', 'wb') as file: \n",
    "    # A new file will be created \n",
    "    pickle.dump(embedding, file)"
   ]
  },
  {
   "cell_type": "code",
   "execution_count": null,
   "id": "f4c13621-04ab-49ca-8f73-bcc7781de7bd",
   "metadata": {},
   "outputs": [],
   "source": [
    "import pickle\n",
    "with open('umap_full.pkl', 'rb') as file: \n",
    "    umap_load = pickle.load(file)"
   ]
  },
  {
   "cell_type": "code",
   "execution_count": null,
   "id": "e57cad37-d7a4-48c3-aa90-24cb8bcd67e5",
   "metadata": {},
   "outputs": [],
   "source": [
    "# embedding.shape\n",
    "umap_load.shape"
   ]
  },
  {
   "cell_type": "code",
   "execution_count": null,
   "id": "e34a48c7-fffe-424b-83ae-3d50081da4cc",
   "metadata": {},
   "outputs": [],
   "source": [
    "embedding[0:100:10,0]"
   ]
  },
  {
   "cell_type": "code",
   "execution_count": null,
   "id": "d7c9db6f-6602-420f-85b8-2f81f4ac651f",
   "metadata": {},
   "outputs": [],
   "source": [
    "from matplotlib.pyplot import subplots\n",
    "ax = subplots(figsize=(4,4))[1]\n",
    "ax.scatter(embedding[0:1142025:100,0] , embedding[0:1142025:100,1], s = 2, c = 'r')\n",
    "# ax.set_xlabel('Orginal');\n",
    "# ax.set_ylabel('Reconstr');\n",
    "# ax.set_title('Component '+str(component));"
   ]
  },
  {
   "cell_type": "code",
   "execution_count": null,
   "id": "43e9b749-38f6-4bb1-8ea1-8a5af8267cd9",
   "metadata": {},
   "outputs": [],
   "source": [
    "import seaborn as sns\n",
    "pal = sns.color_palette(['#e6194B', '#3cb44b', '#ffe119', '#4363d8', '#f58231', '#911eb4', '#42d4f4', \n",
    "                         '#f032e6', '#bfef45', '#469990', '#dcbeff', '#9A6324', '#800000', '#808000',\n",
    "                         '#2f4f4f', '#a9a9a9', '#ffd8b1', '#000000', '#fffac8', '#aaffc3'])"
   ]
  },
  {
   "cell_type": "code",
   "execution_count": null,
   "id": "38cbe2a2-78cc-451c-b3d8-5ecf463c41f6",
   "metadata": {},
   "outputs": [],
   "source": [
    "partition_table = cell_types_numbers.value_counts().sort_index().to_numpy()\n",
    "\n",
    "partition = 0\n",
    "\n",
    "index_start = 62903+25564 #np.sum(partition_table[0:(partition)])\n",
    "index_end = 62903+25564+19745 #np.sum(partition_table[0:(partition+1)])\n",
    "step = 5\n",
    "p = sns.scatterplot(x=embedding[index_start:index_end:step,0], y=embedding[index_start:index_end:step,1], s=2, \n",
    "                    alpha=0.8, hue=cell_types_numbers_copy[index_start:index_end:step], palette = pal[0:15])#hue=label, s=s, palette=pal, "
   ]
  },
  {
   "cell_type": "code",
   "execution_count": null,
   "id": "6f127a24-1629-4692-86af-722353b99dc4",
   "metadata": {},
   "outputs": [],
   "source": [
    "cell_types = pd.read_csv(\"../data/rh2_cf5_tcell_type16_veh/cell_types.txt\", sep=\"\\t\").reset_index(drop=True)[\"Category\"]  #done"
   ]
  },
  {
   "cell_type": "code",
   "execution_count": null,
   "id": "bb062a87-73a1-4606-ac19-91d427670a07",
   "metadata": {},
   "outputs": [],
   "source": [
    "cell_types[0:10]"
   ]
  },
  {
   "cell_type": "code",
   "execution_count": null,
   "id": "dc502c1b-956d-46cf-b8da-e3bf4169a2a0",
   "metadata": {},
   "outputs": [],
   "source": [
    "type(cell_types)"
   ]
  },
  {
   "cell_type": "code",
   "execution_count": null,
   "id": "3155156c-098e-442b-b888-b666a817cf9e",
   "metadata": {},
   "outputs": [],
   "source": [
    "cell_types_numbers.query(Category=='cell_I')"
   ]
  },
  {
   "cell_type": "code",
   "execution_count": null,
   "id": "23790aae-94cc-4445-9ad8-f000f7be2e40",
   "metadata": {},
   "outputs": [],
   "source": [
    "myseries[myseries == 7]"
   ]
  },
  {
   "cell_type": "code",
   "execution_count": null,
   "id": "43bf28c9-a097-42a6-a822-3a004d5fe156",
   "metadata": {},
   "outputs": [],
   "source": [
    "cell_types_numbers[cell_types_numbers == 'cell_I']"
   ]
  },
  {
   "cell_type": "code",
   "execution_count": null,
   "id": "6f6b418e-6b01-4978-b1f1-bc73bc2e3d1c",
   "metadata": {},
   "outputs": [],
   "source": [
    "set(cell_types_numbers)"
   ]
  },
  {
   "cell_type": "code",
   "execution_count": null,
   "id": "50010392-b72e-48be-8417-96161c36272d",
   "metadata": {},
   "outputs": [],
   "source": [
    "cell_types_numbers"
   ]
  },
  {
   "cell_type": "code",
   "execution_count": null,
   "id": "16a07301-30e3-4658-aea6-729b621b9229",
   "metadata": {},
   "outputs": [],
   "source": [
    "cell_types_numbers.value_counts().sort()"
   ]
  },
  {
   "cell_type": "code",
   "execution_count": null,
   "id": "672cff6b-c1f5-48a4-9f52-30c8b5b3134a",
   "metadata": {},
   "outputs": [],
   "source": [
    "cell_types_numbers = cell_types\n",
    "ii = 1\n",
    "for cell_type_temp in sorted(set(cell_types)):\n",
    "    cell_types_numbers[cell_types_numbers == cell_type_temp] = ii\n",
    "    ii = ii + 1"
   ]
  },
  {
   "cell_type": "code",
   "execution_count": null,
   "id": "0a8ecf32-b320-43a2-855a-0f2efa4bc62d",
   "metadata": {},
   "outputs": [],
   "source": [
    "type(set(cell_types_numbers))"
   ]
  },
  {
   "cell_type": "code",
   "execution_count": null,
   "id": "fd101d63-b7cf-4b6f-9ff9-a94722869570",
   "metadata": {},
   "outputs": [],
   "source": [
    "sorted(set(cell_types_numbers))"
   ]
  },
  {
   "cell_type": "code",
   "execution_count": null,
   "id": "3aab105d-9d8c-4ec8-9d6d-0bd5c82fb608",
   "metadata": {},
   "outputs": [],
   "source": [
    "cell_types_numbers.value_counts()"
   ]
  },
  {
   "cell_type": "code",
   "execution_count": null,
   "id": "08622ba3-a19e-4e7f-8554-825ffde72082",
   "metadata": {},
   "outputs": [],
   "source": [
    "partition_table = cell_types_numbers.value_counts().sort_index().to_numpy()\n",
    "partition_table"
   ]
  },
  {
   "cell_type": "code",
   "execution_count": null,
   "id": "c536932a-50a6-4ca6-9366-2e059071f2f6",
   "metadata": {},
   "outputs": [],
   "source": [
    "type(partition_table)"
   ]
  },
  {
   "cell_type": "code",
   "execution_count": null,
   "id": "acaf1635-8fac-4444-9331-2e3fa687d7db",
   "metadata": {},
   "outputs": [],
   "source": [
    "partition_table[0]"
   ]
  },
  {
   "cell_type": "code",
   "execution_count": null,
   "id": "3d4487de-3b2d-46b5-acd1-c8b54c85f422",
   "metadata": {},
   "outputs": [],
   "source": [
    "np.sum(partition_table[0:(0)])"
   ]
  },
  {
   "cell_type": "code",
   "execution_count": null,
   "id": "d55d5e47-99f0-4a7c-a7f5-87fa27b92cf6",
   "metadata": {},
   "outputs": [],
   "source": [
    "meta = pd.read_csv(\"../data/rh2_cf5_tcell_type16_veh/meta.csv\", sep=\",\") #done"
   ]
  },
  {
   "cell_type": "code",
   "execution_count": null,
   "id": "1e3671a1-a75d-4886-a454-ebca797019db",
   "metadata": {},
   "outputs": [],
   "source": [
    "meta.shape"
   ]
  },
  {
   "cell_type": "code",
   "execution_count": null,
   "id": "a6488def-2fbc-4f45-b83c-b2b65b989178",
   "metadata": {},
   "outputs": [],
   "source": [
    "meta.donor_id.value_counts().sort_index()"
   ]
  },
  {
   "cell_type": "code",
   "execution_count": null,
   "id": "f80fe250-f7ae-4ca8-85c4-c7a96078260b",
   "metadata": {},
   "outputs": [],
   "source": []
  },
  {
   "cell_type": "code",
   "execution_count": null,
   "id": "4bc04369-3351-40f5-8129-8e640f4e6cde",
   "metadata": {},
   "outputs": [],
   "source": []
  },
  {
   "cell_type": "code",
   "execution_count": null,
   "id": "67eeb5c9-dd67-4370-9898-78aca9c82ee9",
   "metadata": {},
   "outputs": [],
   "source": [
    "#import umap\n",
    "# import matplotlib.pyplot as plt\n",
    "# import seaborn as sns\n",
    "\n",
    "# from sklearn import datasets\n",
    "# from sklearn.manifold import TSNE\n",
    "\n",
    "# tsne = TSNE(n_components=2, random_state=42)\n",
    "# tsne_coord = tsne.fit_transform(array_latent_space) "
   ]
  },
  {
   "cell_type": "code",
   "execution_count": null,
   "id": "638aeb71-18c9-4e8a-ada2-ad90b46d527e",
   "metadata": {},
   "outputs": [],
   "source": [
    "reconstructed_X = config.model.decode(config.model.encode(stacked_X))"
   ]
  },
  {
   "cell_type": "code",
   "execution_count": null,
   "id": "c4d57938-3535-408a-8723-18cc43a17608",
   "metadata": {},
   "outputs": [],
   "source": [
    "type(reconstructed_X), reconstructed_X.shape"
   ]
  },
  {
   "cell_type": "code",
   "execution_count": null,
   "id": "afe06e8e-c644-4451-ab9f-9b4966d29210",
   "metadata": {},
   "outputs": [],
   "source": [
    "array_X = stacked_X.cpu().detach().numpy()\n",
    "array_reconstructed_X = reconstructed_X.cpu().detach().numpy()"
   ]
  },
  {
   "cell_type": "code",
   "execution_count": null,
   "id": "6071866d-4a98-460b-80f8-21298fb5a0b9",
   "metadata": {},
   "outputs": [],
   "source": [
    "array_X.shape, array_reconstructed_X.shape"
   ]
  },
  {
   "cell_type": "code",
   "execution_count": null,
   "id": "41ddf055-cb11-4a19-b1ee-79f2c7b0e19c",
   "metadata": {},
   "outputs": [],
   "source": [
    "from matplotlib.pyplot import subplots"
   ]
  },
  {
   "cell_type": "code",
   "execution_count": null,
   "id": "6c496d46-123a-4906-8fa7-a78e9bc393ef",
   "metadata": {},
   "outputs": [],
   "source": [
    "end_idx = array_X.shape[0]\n",
    "\n",
    "ax = subplots(figsize=(4,4))[1]\n",
    "every = 500\n",
    "component = 15\n",
    "x_data = array_X[0:end_idx:every,component]\n",
    "recon_x_data = array_reconstructed_X[0:end_idx:every,component]\n",
    "ax.scatter(x_data , recon_x_data, s = 2, c = 'r')\n",
    "ax.set_xlabel('Orginal');\n",
    "ax.set_ylabel('Reconstr');\n",
    "ax.set_title('Component '+str(component));"
   ]
  },
  {
   "cell_type": "code",
   "execution_count": null,
   "id": "2d479887-2097-4907-810f-8c5618b470d7",
   "metadata": {},
   "outputs": [],
   "source": [
    "temp_z1 = config.model.encode(torch.tensor(data_for_outside.X[1]))\n",
    "temp_z1_nparray = temp_z1.detach().numpy()\n",
    "df_temp_z1_nparray = pd.DataFrame(temp_z1_nparray)"
   ]
  },
  {
   "cell_type": "code",
   "execution_count": null,
   "id": "af37c16f-a71a-498b-a96e-215d1a9bccb3",
   "metadata": {},
   "outputs": [],
   "source": [
    "df_temp_z1_nparray.shape"
   ]
  },
  {
   "cell_type": "code",
   "execution_count": null,
   "id": "78f3c704-3298-4283-a1bf-61932d06c88b",
   "metadata": {},
   "outputs": [],
   "source": [
    "df = pd.concat([df_temp_z_nparray, df_temp_z1_nparray], ignore_index=True)"
   ]
  },
  {
   "cell_type": "code",
   "execution_count": null,
   "id": "fcceb974-42c3-4789-86d8-0cbf1466a776",
   "metadata": {},
   "outputs": [],
   "source": [
    "df.shape"
   ]
  },
  {
   "cell_type": "code",
   "execution_count": null,
   "id": "c9486442-e97c-44d4-b9f7-b843b7a2e7e2",
   "metadata": {},
   "outputs": [],
   "source": [
    "type(temp_z)"
   ]
  },
  {
   "cell_type": "code",
   "execution_count": null,
   "id": "aa0e19ab-57de-4805-82e9-0cb5ed24fe1b",
   "metadata": {},
   "outputs": [],
   "source": []
  },
  {
   "cell_type": "code",
   "execution_count": null,
   "id": "c3294bc1-71b8-4d85-bd79-a309e6e083ac",
   "metadata": {},
   "outputs": [],
   "source": [
    "temp_x_hat = config.model.decode(temp_z)\n",
    "temp_x_hat.shape"
   ]
  },
  {
   "cell_type": "code",
   "execution_count": null,
   "id": "417475ef-dc38-4ade-b80e-100a4efa62e1",
   "metadata": {},
   "outputs": [],
   "source": []
  },
  {
   "cell_type": "code",
   "execution_count": null,
   "id": "64541caa-6048-48ef-ae24-cc9220653f83",
   "metadata": {},
   "outputs": [],
   "source": [
    "temp_z_nparray.shape"
   ]
  },
  {
   "cell_type": "code",
   "execution_count": null,
   "id": "269545e1-8119-4ef6-b8c1-29cddee27d0d",
   "metadata": {},
   "outputs": [],
   "source": []
  },
  {
   "cell_type": "code",
   "execution_count": null,
   "id": "495f01cd-68c9-4937-9254-93092cc26797",
   "metadata": {},
   "outputs": [],
   "source": [
    "temp_z_nparray = temp_z_nparray[0:50,0:50]"
   ]
  },
  {
   "cell_type": "code",
   "execution_count": null,
   "id": "1210a6fb-03f6-4dd6-8aa5-a1ff03894752",
   "metadata": {},
   "outputs": [],
   "source": [
    "df_temp_z_nparray.shape"
   ]
  },
  {
   "cell_type": "code",
   "execution_count": null,
   "id": "56d34f52-f561-443c-9caa-51723b8e0add",
   "metadata": {},
   "outputs": [],
   "source": [
    "df_temp_z_nparray"
   ]
  },
  {
   "cell_type": "code",
   "execution_count": null,
   "id": "c34d4091-b8d6-4044-ba11-eab356375663",
   "metadata": {},
   "outputs": [],
   "source": [
    "import seaborn as sns"
   ]
  },
  {
   "cell_type": "code",
   "execution_count": null,
   "id": "2322141f-3417-45f2-bafb-0bdcc6d54a12",
   "metadata": {},
   "outputs": [],
   "source": []
  },
  {
   "cell_type": "code",
   "execution_count": null,
   "id": "b9985889-1db7-4478-9f9b-52e6bbf4a087",
   "metadata": {},
   "outputs": [],
   "source": [
    "column_headers = list(df_temp_z_nparray)\n",
    "print(\"The Column Header :\", column_headers)"
   ]
  },
  {
   "cell_type": "code",
   "execution_count": null,
   "id": "043c459c-4a53-457c-a4b4-734e12d36912",
   "metadata": {
    "jupyter": {
     "source_hidden": true
    }
   },
   "outputs": [],
   "source": [
    "df_temp_z_nparray = df_temp_z_nparray.rename(columns={1: \"one\", 2: \"two\"})"
   ]
  },
  {
   "cell_type": "code",
   "execution_count": null,
   "id": "96309686-f178-4cd0-9dcc-ebd251ec185b",
   "metadata": {
    "jupyter": {
     "source_hidden": true
    }
   },
   "outputs": [],
   "source": [
    "df_temp_z_nparray.head()"
   ]
  },
  {
   "cell_type": "code",
   "execution_count": null,
   "id": "5b6648a7-81a7-4dd0-b573-6afb682e4a93",
   "metadata": {},
   "outputs": [],
   "source": [
    "import plotly.express as px"
   ]
  },
  {
   "cell_type": "code",
   "execution_count": null,
   "id": "417d0864-3fb6-4fb2-b76c-d26682017aff",
   "metadata": {},
   "outputs": [],
   "source": [
    "fig = px.line(df_temp_z_nparray, x=\"one\", y=\"two\", title='Life expectancy in Canada')\n",
    "fig.show()\n",
    "# sns.lineplot(data=temp_z_nparray)"
   ]
  },
  {
   "cell_type": "code",
   "execution_count": null,
   "id": "f592efec-5919-4cb3-917d-ddebde7dbf1d",
   "metadata": {},
   "outputs": [],
   "source": [
    "from matplotlib.pyplot import subplots"
   ]
  },
  {
   "cell_type": "code",
   "execution_count": null,
   "id": "3644ee86-39e7-4c36-ae08-223e19814715",
   "metadata": {},
   "outputs": [],
   "source": [
    "ax = subplots(figsize=(8,8))[1]\n",
    "ax.scatter(df_temp_z_nparray.one, df_temp_z_nparray.two, s = 5, c = 'r')\n",
    "ax.set_xlabel('Fitted value');\n",
    "ax.set_ylabel('Residual');"
   ]
  },
  {
   "cell_type": "code",
   "execution_count": null,
   "id": "9f4c0f38-f531-41ac-916d-b775eeb67236",
   "metadata": {},
   "outputs": [],
   "source": [
    "['x%d' % i for i in range(1, 6)]"
   ]
  },
  {
   "cell_type": "code",
   "execution_count": null,
   "id": "ec542cc9-fdfa-45e9-aa2a-664e8d4da844",
   "metadata": {},
   "outputs": [],
   "source": [
    "len(data_for_outside.ct[0])"
   ]
  },
  {
   "cell_type": "code",
   "execution_count": null,
   "id": "4bdedc7b-921e-49ea-b1f7-7fa34f03ce55",
   "metadata": {},
   "outputs": [],
   "source": [
    "type(torch.tensor(data_for_outside.y[0]))"
   ]
  },
  {
   "cell_type": "code",
   "execution_count": null,
   "id": "53155706-c8c8-4d64-a200-afd713de2d3b",
   "metadata": {},
   "outputs": [],
   "source": [
    "len(data_for_outside.X[0])"
   ]
  },
  {
   "cell_type": "code",
   "execution_count": null,
   "id": "77f1a0cb-9620-4973-9a1f-60950769aa97",
   "metadata": {},
   "outputs": [],
   "source": [
    "config.model(data_for_outside.X[0], torch.tensor(data_for_outside.y[0]),sparse=False)"
   ]
  },
  {
   "cell_type": "code",
   "execution_count": null,
   "id": "a507edcf-510f-4e61-997f-5413788404ad",
   "metadata": {},
   "outputs": [],
   "source": [
    "loss_test, logits_test, ct_logit_test = config.model(stacked_X, sparse=False) "
   ]
  },
  {
   "cell_type": "code",
   "execution_count": null,
   "id": "f6a063a9-4460-44cd-8b16-ad54a85d25b4",
   "metadata": {},
   "outputs": [],
   "source": [
    "from sklearn.model_selection import train_test_split\n",
    "train_set_outside, test_set_outside = train_test_split(data_for_outside, test_size=1, random_state=123)"
   ]
  },
  {
   "cell_type": "code",
   "execution_count": null,
   "id": "e5df5cb1-c38f-4cfb-9a5e-da9514b473d5",
   "metadata": {},
   "outputs": [],
   "source": [
    "len(train_set_outside)"
   ]
  },
  {
   "cell_type": "code",
   "execution_count": null,
   "id": "39524370-9efd-4d26-8afa-c1a395e6da07",
   "metadata": {},
   "outputs": [],
   "source": [
    "len(test_set_outside)"
   ]
  },
  {
   "cell_type": "code",
   "execution_count": null,
   "id": "a54f79fe-99d7-4cfa-beb8-78f1da75ebcc",
   "metadata": {},
   "outputs": [],
   "source": [
    "test_set_outside"
   ]
  },
  {
   "cell_type": "code",
   "execution_count": null,
   "id": "8e239368-32a9-4c40-a837-165b00699aeb",
   "metadata": {
    "jupyter": {
     "source_hidden": true
    }
   },
   "outputs": [],
   "source": []
  }
 ],
 "metadata": {
  "kernelspec": {
   "display_name": "Python 3 (ipykernel)",
   "language": "python",
   "name": "python3"
  },
  "language_info": {
   "codemirror_mode": {
    "name": "ipython",
    "version": 3
   },
   "file_extension": ".py",
   "mimetype": "text/x-python",
   "name": "python",
   "nbconvert_exporter": "python",
   "pygments_lexer": "ipython3",
   "version": "3.10.13"
  }
 },
 "nbformat": 4,
 "nbformat_minor": 5
}
