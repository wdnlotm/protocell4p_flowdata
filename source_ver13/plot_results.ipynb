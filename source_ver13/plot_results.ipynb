{
 "cells": [
  {
   "cell_type": "code",
   "execution_count": 2,
   "id": "0fa59776-880d-4b1c-a4a1-43f8f96802d1",
   "metadata": {},
   "outputs": [
    {
     "data": {
      "text/plain": [
       "Index(['epoch', '1096', '1126', '1110', '1073', '1068', '1034', '1122', '1064',\n",
       "       '1007', '1018', '1013', '1009', '1047', '1072', '1017', '1006',\n",
       "       'loss_train', 'accuracy_train', 'roc_auc_train', 'f1_train',\n",
       "       'clf_loss_train', 'ct_loss_train', 'ct_acc_train', 'loss_val',\n",
       "       'accuracy_val', 'roc_auc_val', 'f1_val', 'clf_loss_val', 'ct_loss_val',\n",
       "       'ct_acc_val'],\n",
       "      dtype='object')"
      ]
     },
     "execution_count": 2,
     "metadata": {},
     "output_type": "execute_result"
    }
   ],
   "source": [
    "import numpy as np\n",
    "import pandas as pd \n",
    "import matplotlib.pyplot as plt\n",
    "\n",
    "result_df = pd.read_csv('result_2024-05-16_15_31_13_123.csv')\n",
    "result_df.rename(columns={'Unnamed: 0': 'epoch'}, inplace=True )\n",
    "result_df.columns\n",
    "# result_df_cut = result_df.iloc[:,0:9]\n",
    "# # result_df_cut.rename(columns={'Unnamed: 0': 'epoch'}, inplace=True )\n",
    "# result_df_cut.iloc[:,1:9] = (result_df.iloc[:,1:9]+result_df.iloc[2799,1:9] + np.random.uniform(-0.2, 0.2, 8))/2\n",
    "\n",
    "# # plt.scatter(result_df_cut['epoch'],result_df_cut[result_df.columns[1]],s = 5, label=result_df_cut.columns[1])\n",
    "# # plt.scatter(result_df_cut['epoch'],result_df_cut[result_df.columns[9]],s = 5, label=result_df_cut.columns[9])\n",
    "\n",
    "# fig = plt.figure()\n",
    "# ax = fig.add_subplot(111)\n",
    "\n",
    "# for ii in range(8):\n",
    "#     plt.scatter(result_df_cut['epoch'],result_df_cut[result_df.columns[ii+1]],s = 5, label=result_df_cut.columns[ii+1])\n",
    "\n",
    "# ax.set_aspect(1500)\n",
    "\n",
    "# plt.legend() \n",
    "# plt.xlabel(\"epoch\")\n",
    "# plt.ylabel(\"correct (0 or 1) - incorrect (0.5)\")\n"
   ]
  },
  {
   "cell_type": "code",
   "execution_count": 5,
   "id": "471aed05",
   "metadata": {},
   "outputs": [
    {
     "data": {
      "text/plain": [
       "(2001, 31)"
      ]
     },
     "execution_count": 5,
     "metadata": {},
     "output_type": "execute_result"
    }
   ],
   "source": [
    "result_df.shape\n"
   ]
  },
  {
   "cell_type": "code",
   "execution_count": 13,
   "id": "2a1f79fa",
   "metadata": {},
   "outputs": [],
   "source": [
    "training_patient = result_df.columns[1:9]\n",
    "training_df_cut = result_df.iloc[:,0:9]\n",
    "training_df_cut.loc[:,training_patient] = (training_df_cut.loc[:,training_patient] + \\\n",
    "                                         training_df_cut.loc[2000,training_patient] + \\\n",
    "                                         np.random.uniform(-0.2, 0.2, 8))/2"
   ]
  },
  {
   "cell_type": "code",
   "execution_count": 14,
   "id": "a40270ce",
   "metadata": {},
   "outputs": [
    {
     "data": {
      "text/plain": [
       "(2001, 9)"
      ]
     },
     "execution_count": 14,
     "metadata": {},
     "output_type": "execute_result"
    }
   ],
   "source": [
    "training_df_cut.shape"
   ]
  },
  {
   "cell_type": "code",
   "execution_count": 15,
   "id": "63137c42",
   "metadata": {},
   "outputs": [],
   "source": [
    "training_df_cut_melt = training_df_cut.melt('epoch', var_name='patient_id', value_name='correctness_val')"
   ]
  },
  {
   "cell_type": "code",
   "execution_count": 17,
   "id": "f9fbbc38",
   "metadata": {},
   "outputs": [
    {
     "data": {
      "text/html": [
       "<div>\n",
       "<style scoped>\n",
       "    .dataframe tbody tr th:only-of-type {\n",
       "        vertical-align: middle;\n",
       "    }\n",
       "\n",
       "    .dataframe tbody tr th {\n",
       "        vertical-align: top;\n",
       "    }\n",
       "\n",
       "    .dataframe thead th {\n",
       "        text-align: right;\n",
       "    }\n",
       "</style>\n",
       "<table border=\"1\" class=\"dataframe\">\n",
       "  <thead>\n",
       "    <tr style=\"text-align: right;\">\n",
       "      <th></th>\n",
       "      <th>epoch</th>\n",
       "      <th>patient_id</th>\n",
       "      <th>correctness_val</th>\n",
       "    </tr>\n",
       "  </thead>\n",
       "  <tbody>\n",
       "    <tr>\n",
       "      <th>0</th>\n",
       "      <td>0</td>\n",
       "      <td>1096</td>\n",
       "      <td>0.524364</td>\n",
       "    </tr>\n",
       "    <tr>\n",
       "      <th>1</th>\n",
       "      <td>1</td>\n",
       "      <td>1096</td>\n",
       "      <td>0.524364</td>\n",
       "    </tr>\n",
       "    <tr>\n",
       "      <th>2</th>\n",
       "      <td>2</td>\n",
       "      <td>1096</td>\n",
       "      <td>0.524364</td>\n",
       "    </tr>\n",
       "    <tr>\n",
       "      <th>3</th>\n",
       "      <td>3</td>\n",
       "      <td>1096</td>\n",
       "      <td>0.524364</td>\n",
       "    </tr>\n",
       "    <tr>\n",
       "      <th>4</th>\n",
       "      <td>4</td>\n",
       "      <td>1096</td>\n",
       "      <td>0.524364</td>\n",
       "    </tr>\n",
       "  </tbody>\n",
       "</table>\n",
       "</div>"
      ],
      "text/plain": [
       "   epoch patient_id  correctness_val\n",
       "0      0       1096         0.524364\n",
       "1      1       1096         0.524364\n",
       "2      2       1096         0.524364\n",
       "3      3       1096         0.524364\n",
       "4      4       1096         0.524364"
      ]
     },
     "execution_count": 17,
     "metadata": {},
     "output_type": "execute_result"
    }
   ],
   "source": [
    "training_df_cut_melt.head()"
   ]
  },
  {
   "cell_type": "code",
   "execution_count": 18,
   "id": "b69a5e5e-a48f-47f3-b686-25d35fa99d0b",
   "metadata": {},
   "outputs": [
    {
     "name": "stderr",
     "output_type": "stream",
     "text": [
      "/home/mbt8hz/.local/lib/python3.10/site-packages/seaborn/_base.py:949: FutureWarning: When grouping with a length-1 list-like, you will need to pass a length-1 tuple to get_group in a future version of pandas. Pass `(name,)` instead of `name` to silence this warning.\n",
      "  data_subset = grouped_data.get_group(pd_key)\n",
      "/home/mbt8hz/.local/lib/python3.10/site-packages/seaborn/_base.py:949: FutureWarning: When grouping with a length-1 list-like, you will need to pass a length-1 tuple to get_group in a future version of pandas. Pass `(name,)` instead of `name` to silence this warning.\n",
      "  data_subset = grouped_data.get_group(pd_key)\n",
      "/home/mbt8hz/.local/lib/python3.10/site-packages/seaborn/_base.py:949: FutureWarning: When grouping with a length-1 list-like, you will need to pass a length-1 tuple to get_group in a future version of pandas. Pass `(name,)` instead of `name` to silence this warning.\n",
      "  data_subset = grouped_data.get_group(pd_key)\n",
      "/home/mbt8hz/.local/lib/python3.10/site-packages/seaborn/_base.py:949: FutureWarning: When grouping with a length-1 list-like, you will need to pass a length-1 tuple to get_group in a future version of pandas. Pass `(name,)` instead of `name` to silence this warning.\n",
      "  data_subset = grouped_data.get_group(pd_key)\n",
      "/home/mbt8hz/.local/lib/python3.10/site-packages/seaborn/_base.py:949: FutureWarning: When grouping with a length-1 list-like, you will need to pass a length-1 tuple to get_group in a future version of pandas. Pass `(name,)` instead of `name` to silence this warning.\n",
      "  data_subset = grouped_data.get_group(pd_key)\n",
      "/home/mbt8hz/.local/lib/python3.10/site-packages/seaborn/_base.py:949: FutureWarning: When grouping with a length-1 list-like, you will need to pass a length-1 tuple to get_group in a future version of pandas. Pass `(name,)` instead of `name` to silence this warning.\n",
      "  data_subset = grouped_data.get_group(pd_key)\n",
      "/home/mbt8hz/.local/lib/python3.10/site-packages/seaborn/_base.py:949: FutureWarning: When grouping with a length-1 list-like, you will need to pass a length-1 tuple to get_group in a future version of pandas. Pass `(name,)` instead of `name` to silence this warning.\n",
      "  data_subset = grouped_data.get_group(pd_key)\n",
      "/home/mbt8hz/.local/lib/python3.10/site-packages/seaborn/_base.py:949: FutureWarning: When grouping with a length-1 list-like, you will need to pass a length-1 tuple to get_group in a future version of pandas. Pass `(name,)` instead of `name` to silence this warning.\n",
      "  data_subset = grouped_data.get_group(pd_key)\n"
     ]
    },
    {
     "data": {
      "image/png": "[encoded data removed]",
      "text/plain": [
       "<Figure size 585.5x500 with 1 Axes>"
      ]
     },
     "metadata": {},
     "output_type": "display_data"
    }
   ],
   "source": [
    "import seaborn as sns\n",
    "# import plotly.express as px \n",
    "# training_patient = result_df.columns[1:9]\n",
    "# result_df_cut = result_df.iloc[:,0:9]\n",
    "# result_df_cut.loc[:,training_patient] = (result_df_cut.loc[:,training_patient] + \\\n",
    "#                                          result_df_cut.loc[2000,training_patient] + \\\n",
    "#                                          np.random.uniform(-0.2, 0.2, 8))/2\n",
    "\n",
    "g = sns.catplot(x=\"epoch\", y=\"correctness_val\", hue='patient_id', data=training_df_cut_melt, kind='point')\n",
    "\n",
    "# sns.scatterplot(data=result_df_cut, x=\"epoch\", y='1096', s=20).set(title='UMAP')\n",
    "\n",
    "# fig = px.scatter(result_df_cut, x='epoch', y=result_df_cut.columns, \\\n",
    "#                  title = \"Training accuracy evolution\")\n",
    "\n",
    "# fig.update_layout(\n",
    "#     xaxis_title=\"Epoch\",\n",
    "#     yaxis_title=\"1 or 0: Correct, 0.5:Incorrect\",\n",
    "#     legend_title=\"Patient Id\")\n",
    "\n",
    "# fig.show()"
   ]
  },
  {
   "cell_type": "code",
   "execution_count": 19,
   "id": "fd48f0b7",
   "metadata": {},
   "outputs": [
    {
     "name": "stderr",
     "output_type": "stream",
     "text": [
      "/home/mbt8hz/.local/lib/python3.10/site-packages/seaborn/_base.py:949: FutureWarning: When grouping with a length-1 list-like, you will need to pass a length-1 tuple to get_group in a future version of pandas. Pass `(name,)` instead of `name` to silence this warning.\n",
      "  data_subset = grouped_data.get_group(pd_key)\n",
      "/home/mbt8hz/.local/lib/python3.10/site-packages/seaborn/_base.py:949: FutureWarning: When grouping with a length-1 list-like, you will need to pass a length-1 tuple to get_group in a future version of pandas. Pass `(name,)` instead of `name` to silence this warning.\n",
      "  data_subset = grouped_data.get_group(pd_key)\n",
      "/home/mbt8hz/.local/lib/python3.10/site-packages/seaborn/_base.py:949: FutureWarning: When grouping with a length-1 list-like, you will need to pass a length-1 tuple to get_group in a future version of pandas. Pass `(name,)` instead of `name` to silence this warning.\n",
      "  data_subset = grouped_data.get_group(pd_key)\n",
      "/home/mbt8hz/.local/lib/python3.10/site-packages/seaborn/_base.py:949: FutureWarning: When grouping with a length-1 list-like, you will need to pass a length-1 tuple to get_group in a future version of pandas. Pass `(name,)` instead of `name` to silence this warning.\n",
      "  data_subset = grouped_data.get_group(pd_key)\n",
      "/home/mbt8hz/.local/lib/python3.10/site-packages/seaborn/_base.py:949: FutureWarning: When grouping with a length-1 list-like, you will need to pass a length-1 tuple to get_group in a future version of pandas. Pass `(name,)` instead of `name` to silence this warning.\n",
      "  data_subset = grouped_data.get_group(pd_key)\n",
      "/home/mbt8hz/.local/lib/python3.10/site-packages/seaborn/_base.py:949: FutureWarning: When grouping with a length-1 list-like, you will need to pass a length-1 tuple to get_group in a future version of pandas. Pass `(name,)` instead of `name` to silence this warning.\n",
      "  data_subset = grouped_data.get_group(pd_key)\n",
      "/home/mbt8hz/.local/lib/python3.10/site-packages/seaborn/_base.py:949: FutureWarning: When grouping with a length-1 list-like, you will need to pass a length-1 tuple to get_group in a future version of pandas. Pass `(name,)` instead of `name` to silence this warning.\n",
      "  data_subset = grouped_data.get_group(pd_key)\n",
      "/home/mbt8hz/.local/lib/python3.10/site-packages/seaborn/_base.py:949: FutureWarning: When grouping with a length-1 list-like, you will need to pass a length-1 tuple to get_group in a future version of pandas. Pass `(name,)` instead of `name` to silence this warning.\n",
      "  data_subset = grouped_data.get_group(pd_key)\n"
     ]
    },
    {
     "data": {
      "image/png": "[encoded data removed]",
      "text/plain": [
       "<Figure size 640x480 with 1 Axes>"
      ]
     },
     "metadata": {},
     "output_type": "display_data"
    }
   ],
   "source": [
    "sns.pointplot(x=\"epoch\", y=\"correctness_val\", hue='patient_id', data=training_df_cut_melt);"
   ]
  },
  {
   "cell_type": "code",
   "execution_count": null,
   "id": "86e28c7b-aeee-489c-9a48-af3265beadf9",
   "metadata": {},
   "outputs": [],
   "source": [
    "result_df.columns[17]"
   ]
  },
  {
   "cell_type": "code",
   "execution_count": null,
   "id": "c4f82fbf-e6f6-48c6-b51a-d82134286a36",
   "metadata": {},
   "outputs": [],
   "source": [
    "kk=17\n",
    "print(result_df.columns[kk],result_df.columns[kk+7])\n",
    "fig = plt.figure();\n",
    "ax = fig.add_subplot(111);\n",
    "plt.scatter(result_df['epoch'],result_df[result_df.columns[kk]],s = 5, label=result_df.columns[kk]);\n",
    "plt.scatter(result_df['epoch'],result_df[result_df.columns[kk+7]],s = 5, label=result_df.columns[kk+7]);\n",
    "plt.legend() ;\n",
    "plt.xlabel(\"epoch\");"
   ]
  },
  {
   "cell_type": "code",
   "execution_count": null,
   "id": "5b3a2c5c-a6c5-4166-a4f2-d0d5bb09f919",
   "metadata": {},
   "outputs": [],
   "source": [
    "kk=18\n",
    "print(result_df.columns[kk],result_df.columns[kk+7])\n",
    "fig = plt.figure();\n",
    "ax = fig.add_subplot(111);\n",
    "plt.scatter(result_df['epoch'],result_df[result_df.columns[kk]],s = 5, label=result_df.columns[kk]);\n",
    "plt.scatter(result_df['epoch'],result_df[result_df.columns[kk+7]],s = 5, label=result_df.columns[kk+7]);\n",
    "plt.legend() ;\n",
    "plt.xlabel(\"epoch\");"
   ]
  },
  {
   "cell_type": "code",
   "execution_count": null,
   "id": "79f7f102-a817-4fa9-aca1-ef8e4efd6bea",
   "metadata": {},
   "outputs": [],
   "source": [
    "kk=19\n",
    "print(result_df.columns[kk],result_df.columns[kk+7])\n",
    "fig = plt.figure();\n",
    "ax = fig.add_subplot(111);\n",
    "plt.scatter(result_df['epoch'],result_df[result_df.columns[kk]],s = 5, label=result_df.columns[kk]);\n",
    "plt.scatter(result_df['epoch'],result_df[result_df.columns[kk+7]],s = 5, label=result_df.columns[kk+7]);\n",
    "plt.legend() ;\n",
    "plt.xlabel(\"epoch\");"
   ]
  },
  {
   "cell_type": "code",
   "execution_count": null,
   "id": "efed8d1c-314e-4568-9a80-5483172bb70f",
   "metadata": {},
   "outputs": [],
   "source": [
    "kk=20\n",
    "print(result_df.columns[kk],result_df.columns[kk+7])\n",
    "fig = plt.figure();\n",
    "ax = fig.add_subplot(111);\n",
    "plt.scatter(result_df['epoch'],result_df[result_df.columns[kk]],s = 5, label=result_df.columns[kk]);\n",
    "plt.scatter(result_df['epoch'],result_df[result_df.columns[kk+7]],s = 5, label=result_df.columns[kk+7]);\n",
    "plt.legend() ;\n",
    "plt.xlabel(\"epoch\");"
   ]
  },
  {
   "cell_type": "code",
   "execution_count": null,
   "id": "3dc65fb9-c6e9-4f51-8a44-8d9eab9d040f",
   "metadata": {},
   "outputs": [],
   "source": [
    "kk=20\n",
    "print(result_df.columns[kk],result_df.columns[kk+7])\n",
    "fig = plt.figure();\n",
    "ax = fig.add_subplot(111);\n",
    "plt.scatter(result_df['epoch'],result_df[result_df.columns[kk]],s = 5, label=result_df.columns[kk]);\n",
    "plt.scatter(result_df['epoch'],result_df[result_df.columns[kk+7]],s = 5, label=result_df.columns[kk+7]);\n",
    "plt.legend() ;\n",
    "plt.xlabel(\"epoch\");"
   ]
  },
  {
   "cell_type": "code",
   "execution_count": null,
   "id": "c3dda1ef-f9c0-4cca-9753-7201218adce1",
   "metadata": {},
   "outputs": [],
   "source": [
    "kk=21\n",
    "print(result_df.columns[kk],result_df.columns[kk+7])\n",
    "fig = plt.figure();\n",
    "ax = fig.add_subplot(111);\n",
    "plt.scatter(result_df['epoch'],result_df[result_df.columns[kk]],s = 5, label=result_df.columns[kk]);\n",
    "plt.scatter(result_df['epoch'],result_df[result_df.columns[kk+7]],s = 5, label=result_df.columns[kk+7]);\n",
    "plt.legend() ;\n",
    "plt.xlabel(\"epoch\");"
   ]
  },
  {
   "cell_type": "code",
   "execution_count": null,
   "id": "941eba89-9c24-4b57-85de-77a141f9ed37",
   "metadata": {},
   "outputs": [],
   "source": [
    "kk=22\n",
    "print(result_df.columns[kk],result_df.columns[kk+7])\n",
    "fig = plt.figure();\n",
    "ax = fig.add_subplot(111);\n",
    "plt.scatter(result_df['epoch'],result_df[result_df.columns[kk]],s = 5, label=result_df.columns[kk]);\n",
    "plt.scatter(result_df['epoch'],result_df[result_df.columns[kk+7]],s = 5, label=result_df.columns[kk+7]);\n",
    "plt.legend() ;\n",
    "plt.xlabel(\"epoch\");"
   ]
  },
  {
   "cell_type": "code",
   "execution_count": null,
   "id": "b7a152c1-0053-49bd-843a-f6958c600d27",
   "metadata": {},
   "outputs": [],
   "source": [
    "kk=23\n",
    "print(result_df.columns[kk],result_df.columns[kk+7])\n",
    "fig = plt.figure();\n",
    "ax = fig.add_subplot(111);\n",
    "plt.scatter(result_df['epoch'],result_df[result_df.columns[kk]],s = 5, label=result_df.columns[kk]);\n",
    "plt.scatter(result_df['epoch'],result_df[result_df.columns[kk+7]],s = 5, label=result_df.columns[kk+7]);\n",
    "plt.legend() ;\n",
    "plt.xlabel(\"epoch\");"
   ]
  },
  {
   "cell_type": "code",
   "execution_count": null,
   "id": "d342e31b-3d79-4c6c-9c92-256c588cd4f4",
   "metadata": {},
   "outputs": [],
   "source": [
    "umap_df = pd.read_csv('umap_partition_il1b.csv')"
   ]
  },
  {
   "cell_type": "code",
   "execution_count": null,
   "id": "8167c98f-82a7-40c5-9e10-3beac91ea746",
   "metadata": {},
   "outputs": [],
   "source": [
    "umap_df = umap_df.iloc[:,1:4] "
   ]
  },
  {
   "cell_type": "code",
   "execution_count": null,
   "id": "ba9ef0e6-a455-44f9-89bc-d665af863479",
   "metadata": {},
   "outputs": [],
   "source": [
    "umap_df_subsampled = umap_df.sample(30000)"
   ]
  },
  {
   "cell_type": "code",
   "execution_count": null,
   "id": "46844131-290e-4083-98f1-704ab8fdde2f",
   "metadata": {},
   "outputs": [],
   "source": [
    "umap_df_subsampled.shape"
   ]
  },
  {
   "cell_type": "code",
   "execution_count": null,
   "id": "cbc60d46-7fd0-4a43-8228-9556b4851e03",
   "metadata": {},
   "outputs": [],
   "source": [
    "color_list = ['#e6194B', '#3cb44b', '#ffe119', '#4363d8', \\\n",
    "              '#f58231', '#911eb4', '#42d4f4', '#f032e6', \\\n",
    "              '#bfef45', '#469990', '#dcbeff', '#9A6324', \\\n",
    "              '#800000', '#808000', '#2f4f4f', '#a9a9a9', \\\n",
    "              '#ffd8b1', '#000000', '#fffac8', '#aaffc3']"
   ]
  },
  {
   "cell_type": "code",
   "execution_count": null,
   "id": "b418022e-8953-4b66-a428-18c4bcc4d230",
   "metadata": {},
   "outputs": [],
   "source": [
    "set(umap_df_subsampled['partition'])"
   ]
  },
  {
   "cell_type": "code",
   "execution_count": null,
   "id": "057fe9dd-1176-4559-b3e1-bd0c5dfe4e46",
   "metadata": {},
   "outputs": [],
   "source": [
    "#fig = plt.figure();\n",
    "#ax = fig.add_subplot(111);\n",
    "\n",
    "c_idx = 0\n",
    "for ii in set(umap_df_subsampled['partition']):\n",
    "    plt.scatter(umap_df_subsampled['X1'][umap_df_subsampled['partition']==ii], \\\n",
    "                umap_df_subsampled['X2'][umap_df_subsampled['partition']==ii], \\\n",
    "                s = 2, label = ii, c = color_list[c_idx], alpha = 0.9)\n",
    "    c_idx = c_idx + 1\n",
    "\n",
    "plt.legend(markerscale=5, loc='center left', bbox_to_anchor=(1, 0.5))\n",
    "plt.xlabel(\"umap x\");\n",
    "plt.ylabel(\"umap y\");\n",
    "#plt.set_aspect(1)\n",
    "\n",
    "#plt.savefig('filename.pdf')"
   ]
  },
  {
   "cell_type": "code",
   "execution_count": null,
   "id": "d91f882f-f140-41ac-b7a8-3c973ef2e291",
   "metadata": {},
   "outputs": [],
   "source": []
  }
 ],
 "metadata": {
  "kernelspec": {
   "display_name": "Python 3 (ipykernel)",
   "language": "python",
   "name": "python3"
  },
  "language_info": {
   "codemirror_mode": {
    "name": "ipython",
    "version": 3
   },
   "file_extension": ".py",
   "mimetype": "text/x-python",
   "name": "python",
   "nbconvert_exporter": "python",
   "pygments_lexer": "ipython3",
   "version": "3.10.13"
  }
 },
 "nbformat": 4,
 "nbformat_minor": 5
}
