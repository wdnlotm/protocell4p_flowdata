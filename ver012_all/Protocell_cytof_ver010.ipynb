{
 "cells": [
  {
   "cell_type": "code",
   "execution_count": 1,
   "id": "7e7ac074-4ddb-4e60-9fbe-90070c83070e",
   "metadata": {},
   "outputs": [],
   "source": [
    "#overall requirement https://github.com/Teddy-XiongGZ/ProtoCell4P/blob/main/requirements.txt\n",
    "# matplotlib==3.6.2 # seaborn==0.12.1 # torch==1.13.1 # pandas==1.5.2 # numpy==1.23.4 # scikit-learn==1.2.0 \n",
    "# scipy==1.9.3 # tqdm==4.64.1 # scanpy==1.9.1 # goatools==1.2.4 # tensorboard\n",
    "#%reset"
   ]
  },
  {
   "cell_type": "code",
   "execution_count": 2,
   "id": "043fd275-bb85-43bc-ac9a-e5e0d29443a1",
   "metadata": {},
   "outputs": [],
   "source": [
    "from config_cytof_ver010 import Config\n",
    "import torch\n",
    "\n",
    "#input_arg has arguments_for_protocell and arguments_for_visualize\n",
    "from input_args import *   "
   ]
  },
  {
   "cell_type": "code",
   "execution_count": 3,
   "id": "038d4b1b-d0d8-4b66-9d7b-ae658278ec03",
   "metadata": {},
   "outputs": [],
   "source": [
    "from datetime import datetime\n",
    "now = datetime.now()\n",
    "current_time = now.strftime(\"%H_%M_%S\")\n",
    "import datetime\n",
    "today = datetime.date.today()"
   ]
  },
  {
   "cell_type": "code",
   "execution_count": 4,
   "id": "f8221ec6-7c41-45a4-974d-0cf568a5b67d",
   "metadata": {},
   "outputs": [
    {
     "name": "stdout",
     "output_type": "stream",
     "text": [
      "log_2024-02-05_13_05_01_121.txt\n"
     ]
    }
   ],
   "source": [
    "seed_numb = 121\n",
    "global seed_numb\n",
    "\n",
    "log_file_name = 'log_' + str(today) + '_' + str(current_time) + \"_\" + str(seed_numb) + \".txt\"\n",
    "print(log_file_name)\n",
    "\n",
    "data_folder_name = 'rh2_cf5_tcell_dim22_allcond_imp_v_noimp'\n",
    "data_loc_str = '../data/'+ data_folder_name\n",
    "\n",
    "exp_string = 'protocell_cytof_'+ data_folder_name + '_' + str(seed_numb)\n",
    "\n",
    "lamb = 1.0"
   ]
  },
  {
   "cell_type": "code",
   "execution_count": 5,
   "id": "2c317230-2f90-4e6b-86b2-253655c89eb3",
   "metadata": {},
   "outputs": [],
   "source": [
    "#lambda_5 and lambda_6 are related to load_ct\n",
    "args = arguments_for_protocell(data = \"cytof\",\n",
    "                               data_loc = data_loc_str,\n",
    "                               model = \"ProtoCell\",\n",
    "                               seed = seed_numb,\n",
    "                               exp_str = exp_string,\n",
    "                               log_file_name = log_file_name,\n",
    "                               h_dim = 16,\n",
    "                               z_dim = 8,\n",
    "                               n_layers = 2, \n",
    "                               n_proto = 15,\n",
    "                               split_ratio = [0.5, 0.25, 0.25], #[0.5, 0.25, 0.25] #0.70834 + 0.04166  +0.25\n",
    "                               max_epoch = 2800,\n",
    "                               batch_size = 500,\n",
    "                               subsample = False,\n",
    "                               eval = None,\n",
    "                               pretrained = False, #False is good\n",
    "                               max_epoch_pretrain = 30,\n",
    "                               keep_sparse = False,\n",
    "                               lr = 0.0005,\n",
    "                               device = \"cuda:0\", #\"cpu\", #device = \"cuda:0\",\n",
    "                               load_ct = True,\n",
    "                               lambda_1 = lamb, lambda_2 = lamb, lambda_3 = lamb, \n",
    "                               lambda_4 = lamb, lambda_5 = lamb, lambda_6 = lamb)"
   ]
  },
  {
   "cell_type": "code",
   "execution_count": 6,
   "id": "272c3739-b40d-4cf9-b441-9c9e2f6faf28",
   "metadata": {},
   "outputs": [
    {
     "name": "stdout",
     "output_type": "stream",
     "text": [
      "loading data from../data/rh2_cf5_tcell_dim22_allcond_imp_v_noimp\n"
     ]
    },
    {
     "name": "stderr",
     "output_type": "stream",
     "text": [
      "100%|██████████| 16/16 [00:04<00:00,  3.26it/s]\n"
     ]
    },
    {
     "name": "stdout",
     "output_type": "stream",
     "text": [
      "[Size of dataset] IMPRV: 8 | NoIMP: 8\n",
      "\n",
      " training data set cell counts:\n",
      "cell count: 25799, pat_id:1122  INPRV\n",
      "cell count: 223162, pat_id:1034  INPRV\n",
      "cell count: 102217, pat_id:1064  NoIMP\n",
      "cell count: 156563, pat_id:1072  NoIMP\n",
      "cell count: 118884, pat_id:1006  NoIMP\n",
      "cell count: 153867, pat_id:1017  INPRV\n",
      "cell count: 111811, pat_id:1013  INPRV\n",
      "cell count: 76057, pat_id:1126  NoIMP\n",
      "\n",
      " validation data set cell counts:\n",
      "cell count: 99436, pat_id:1007  INPRV\n",
      "cell count: 78892, pat_id:1096  INPRV\n",
      "cell count: 93515, pat_id:1018  NoIMP\n",
      "cell count: 54582, pat_id:1009  INPRV\n",
      "\n",
      " test data set cell counts:\n",
      "cell count: 61938, pat_id:1110  INPRV\n",
      "cell count: 124755, pat_id:1073  NoIMP\n",
      "cell count: 223449, pat_id:1068  NoIMP\n",
      "cell count: 17351, pat_id:1047  NoIMP\n",
      "Index([            1122,             1034,             1064,             1072,\n",
      "                   1006,             1017,             1013,             1126,\n",
      "                   1007,             1096,             1018,             1009,\n",
      "                   1110,             1073,             1068,             1047,\n",
      "           'loss_train', 'accuracy_train',  'roc_auc_train',       'f1_train',\n",
      "       'clf_loss_train',  'ct_loss_train',   'ct_acc_train',       'loss_val',\n",
      "         'accuracy_val',    'roc_auc_val',         'f1_val',   'clf_loss_val',\n",
      "          'ct_loss_val',     'ct_acc_val'],\n",
      "      dtype='object')\n",
      "\n",
      " The log file name is log_2024-02-05_13_05_01_121_model.txt\n",
      "\n",
      " The log file is saved in ../log/cytof/protocell_cytof_rh2_cf5_tcell_dim22_allcond_imp_v_noimp_121\n"
     ]
    }
   ],
   "source": [
    "torch.manual_seed(seed_numb)\n",
    "torch.cuda.manual_seed(seed_numb)\n",
    "\n",
    "config = Config(\n",
    "        data = args.data,\n",
    "        data_loc = args.data_loc,\n",
    "        log_file_name = args.log_file_name,\n",
    "        model = args.model,\n",
    "        split_ratio = args.split_ratio,\n",
    "        lr = args.lr,\n",
    "        max_epoch = args.max_epoch,\n",
    "        batch_size = args.batch_size,\n",
    "        test_step = args.test_step,\n",
    "        h_dim = args.h_dim,\n",
    "        z_dim = args.z_dim,\n",
    "        n_layers = args.n_layers,\n",
    "        n_proto = args.n_proto,\n",
    "        device = args.device,\n",
    "        seed = args.seed,\n",
    "        exp_str = args.exp_str,\n",
    "        task = args.task,\n",
    "        subsample = False if args.subsample is None else args.subsample,\n",
    "        eval = False if args.eval is None else args.eval,\n",
    "        load_ct = False if args.load_ct is None else args.load_ct,\n",
    "        d_min = args.d_min,\n",
    "        lambda_1 = args.lambda_1,\n",
    "        lambda_2 = args.lambda_2,\n",
    "        lambda_3 = args.lambda_3,\n",
    "        lambda_4 = args.lambda_4,\n",
    "        lambda_5 = args.lambda_5,\n",
    "        lambda_6 = args.lambda_6,\n",
    "        keep_sparse = False if args.keep_sparse is None else args.keep_sparse,\n",
    "        pretrained = False if args.pretrained is None else args.pretrained,\n",
    "        lr_pretrain = args.lr_pretrain,\n",
    "        max_epoch_pretrain = args.max_epoch_pretrain\n",
    ")"
   ]
  },
  {
   "cell_type": "code",
   "execution_count": 7,
   "id": "717246ee-9b8a-4f45-9659-483bb50f5612",
   "metadata": {},
   "outputs": [],
   "source": [
    "# from torchinfo import summary\n",
    "# summary(config.model)"
   ]
  },
  {
   "cell_type": "code",
   "execution_count": 8,
   "id": "0cd83849-b675-401f-9e34-2b34ba854897",
   "metadata": {},
   "outputs": [
    {
     "name": "stderr",
     "output_type": "stream",
     "text": [
      "training :   0%|          | 1/2800 [00:01<1:04:02,  1.37s/ epoch]"
     ]
    },
    {
     "name": "stdout",
     "output_type": "stream",
     "text": [
      "[1 1 1 1 1 1 1 1]\n",
      "tensor([0, 0, 1, 1, 1, 0, 0, 1])\n"
     ]
    },
    {
     "name": "stderr",
     "output_type": "stream",
     "text": [
      "training :   4%|▎         | 102/2800 [01:29<38:46,  1.16 epoch/s]"
     ]
    },
    {
     "name": "stdout",
     "output_type": "stream",
     "text": [
      "[0 0 1 1 1 0 0 1]\n",
      "tensor([0, 0, 1, 1, 1, 0, 0, 1])\n"
     ]
    },
    {
     "name": "stderr",
     "output_type": "stream",
     "text": [
      "training :   7%|▋         | 201/2800 [02:56<37:59,  1.14 epoch/s]"
     ]
    },
    {
     "name": "stdout",
     "output_type": "stream",
     "text": [
      "[0 0 1 1 1 0 0 1]\n",
      "tensor([0, 0, 1, 1, 1, 0, 0, 1])\n"
     ]
    },
    {
     "name": "stderr",
     "output_type": "stream",
     "text": [
      "training :  11%|█         | 301/2800 [04:24<36:50,  1.13 epoch/s]"
     ]
    },
    {
     "name": "stdout",
     "output_type": "stream",
     "text": [
      "[0 0 1 1 1 0 0 1]\n",
      "tensor([0, 0, 1, 1, 1, 0, 0, 1])\n"
     ]
    },
    {
     "name": "stderr",
     "output_type": "stream",
     "text": [
      "training :  14%|█▍        | 401/2800 [05:52<35:21,  1.13 epoch/s]"
     ]
    },
    {
     "name": "stdout",
     "output_type": "stream",
     "text": [
      "[0 0 1 1 1 0 0 1]\n",
      "tensor([0, 0, 1, 1, 1, 0, 0, 1])\n"
     ]
    },
    {
     "name": "stderr",
     "output_type": "stream",
     "text": [
      "training :  18%|█▊        | 501/2800 [07:20<33:41,  1.14 epoch/s]"
     ]
    },
    {
     "name": "stdout",
     "output_type": "stream",
     "text": [
      "[0 0 1 1 1 0 0 1]\n",
      "tensor([0, 0, 1, 1, 1, 0, 0, 1])\n"
     ]
    },
    {
     "name": "stderr",
     "output_type": "stream",
     "text": [
      "training :  21%|██▏       | 601/2800 [08:48<32:21,  1.13 epoch/s]"
     ]
    },
    {
     "name": "stdout",
     "output_type": "stream",
     "text": [
      "[0 0 1 1 1 0 0 1]\n",
      "tensor([0, 0, 1, 1, 1, 0, 0, 1])\n"
     ]
    },
    {
     "name": "stderr",
     "output_type": "stream",
     "text": [
      "training :  25%|██▌       | 701/2800 [10:16<30:45,  1.14 epoch/s]"
     ]
    },
    {
     "name": "stdout",
     "output_type": "stream",
     "text": [
      "[0 0 1 1 1 0 0 1]\n",
      "tensor([0, 0, 1, 1, 1, 0, 0, 1])\n"
     ]
    },
    {
     "name": "stderr",
     "output_type": "stream",
     "text": [
      "training :  29%|██▊       | 801/2800 [11:44<29:08,  1.14 epoch/s]"
     ]
    },
    {
     "name": "stdout",
     "output_type": "stream",
     "text": [
      "[0 0 1 1 1 0 0 1]\n",
      "tensor([0, 0, 1, 1, 1, 0, 0, 1])\n"
     ]
    },
    {
     "name": "stderr",
     "output_type": "stream",
     "text": [
      "training :  32%|███▏      | 901/2800 [13:13<27:57,  1.13 epoch/s]"
     ]
    },
    {
     "name": "stdout",
     "output_type": "stream",
     "text": [
      "[0 0 1 1 1 0 0 1]\n",
      "tensor([0, 0, 1, 1, 1, 0, 0, 1])\n"
     ]
    },
    {
     "name": "stderr",
     "output_type": "stream",
     "text": [
      "training :  36%|███▌      | 1001/2800 [14:41<26:27,  1.13 epoch/s]"
     ]
    },
    {
     "name": "stdout",
     "output_type": "stream",
     "text": [
      "[0 0 1 1 1 0 0 1]\n",
      "tensor([0, 0, 1, 1, 1, 0, 0, 1])\n"
     ]
    },
    {
     "name": "stderr",
     "output_type": "stream",
     "text": [
      "training :  39%|███▉      | 1101/2800 [16:09<24:55,  1.14 epoch/s]"
     ]
    },
    {
     "name": "stdout",
     "output_type": "stream",
     "text": [
      "[0 0 1 1 1 0 0 1]\n",
      "tensor([0, 0, 1, 1, 1, 0, 0, 1])\n"
     ]
    },
    {
     "name": "stderr",
     "output_type": "stream",
     "text": [
      "training :  43%|████▎     | 1201/2800 [17:38<23:33,  1.13 epoch/s]"
     ]
    },
    {
     "name": "stdout",
     "output_type": "stream",
     "text": [
      "[0 0 1 1 1 0 0 1]\n",
      "tensor([0, 0, 1, 1, 1, 0, 0, 1])\n"
     ]
    },
    {
     "name": "stderr",
     "output_type": "stream",
     "text": [
      "training :  46%|████▋     | 1301/2800 [19:08<22:14,  1.12 epoch/s]"
     ]
    },
    {
     "name": "stdout",
     "output_type": "stream",
     "text": [
      "[0 0 1 1 1 0 0 1]\n",
      "tensor([0, 0, 1, 1, 1, 0, 0, 1])\n"
     ]
    },
    {
     "name": "stderr",
     "output_type": "stream",
     "text": [
      "training :  50%|█████     | 1401/2800 [20:36<20:36,  1.13 epoch/s]"
     ]
    },
    {
     "name": "stdout",
     "output_type": "stream",
     "text": [
      "[0 0 1 1 1 0 0 1]\n",
      "tensor([0, 0, 1, 1, 1, 0, 0, 1])\n"
     ]
    },
    {
     "name": "stderr",
     "output_type": "stream",
     "text": [
      "training :  54%|█████▎    | 1501/2800 [22:06<19:13,  1.13 epoch/s]"
     ]
    },
    {
     "name": "stdout",
     "output_type": "stream",
     "text": [
      "[0 0 1 1 1 0 0 1]\n",
      "tensor([0, 0, 1, 1, 1, 0, 0, 1])\n"
     ]
    },
    {
     "name": "stderr",
     "output_type": "stream",
     "text": [
      "training :  57%|█████▋    | 1601/2800 [23:34<17:35,  1.14 epoch/s]"
     ]
    },
    {
     "name": "stdout",
     "output_type": "stream",
     "text": [
      "[0 0 1 1 1 0 0 1]\n",
      "tensor([0, 0, 1, 1, 1, 0, 0, 1])\n"
     ]
    },
    {
     "name": "stderr",
     "output_type": "stream",
     "text": [
      "training :  61%|██████    | 1701/2800 [25:03<16:13,  1.13 epoch/s]"
     ]
    },
    {
     "name": "stdout",
     "output_type": "stream",
     "text": [
      "[0 0 1 1 1 0 0 1]\n",
      "tensor([0, 0, 1, 1, 1, 0, 0, 1])\n"
     ]
    },
    {
     "name": "stderr",
     "output_type": "stream",
     "text": [
      "training :  64%|██████▍   | 1801/2800 [26:31<14:38,  1.14 epoch/s]"
     ]
    },
    {
     "name": "stdout",
     "output_type": "stream",
     "text": [
      "[0 0 1 1 1 0 0 1]\n",
      "tensor([0, 0, 1, 1, 1, 0, 0, 1])\n"
     ]
    },
    {
     "name": "stderr",
     "output_type": "stream",
     "text": [
      "training :  68%|██████▊   | 1901/2800 [28:00<13:08,  1.14 epoch/s]"
     ]
    },
    {
     "name": "stdout",
     "output_type": "stream",
     "text": [
      "[0 0 1 1 1 0 0 1]\n",
      "tensor([0, 0, 1, 1, 1, 0, 0, 1])\n"
     ]
    },
    {
     "name": "stderr",
     "output_type": "stream",
     "text": [
      "training :  71%|███████▏  | 2001/2800 [29:29<12:52,  1.03 epoch/s]"
     ]
    },
    {
     "name": "stdout",
     "output_type": "stream",
     "text": [
      "[0 0 1 1 1 0 0 1]\n",
      "tensor([0, 0, 1, 1, 1, 0, 0, 1])\n"
     ]
    },
    {
     "name": "stderr",
     "output_type": "stream",
     "text": [
      "training :  75%|███████▌  | 2101/2800 [30:57<10:23,  1.12 epoch/s]"
     ]
    },
    {
     "name": "stdout",
     "output_type": "stream",
     "text": [
      "[0 0 1 1 1 0 0 1]\n",
      "tensor([0, 0, 1, 1, 1, 0, 0, 1])\n"
     ]
    },
    {
     "name": "stderr",
     "output_type": "stream",
     "text": [
      "training :  79%|███████▊  | 2201/2800 [32:25<08:47,  1.14 epoch/s]"
     ]
    },
    {
     "name": "stdout",
     "output_type": "stream",
     "text": [
      "[0 0 1 1 1 0 0 1]\n",
      "tensor([0, 0, 1, 1, 1, 0, 0, 1])\n"
     ]
    },
    {
     "name": "stderr",
     "output_type": "stream",
     "text": [
      "training :  82%|████████▏ | 2301/2800 [33:53<07:19,  1.13 epoch/s]"
     ]
    },
    {
     "name": "stdout",
     "output_type": "stream",
     "text": [
      "[0 0 1 1 1 0 0 1]\n",
      "tensor([0, 0, 1, 1, 1, 0, 0, 1])\n"
     ]
    },
    {
     "name": "stderr",
     "output_type": "stream",
     "text": [
      "training :  86%|████████▌ | 2401/2800 [35:21<05:51,  1.14 epoch/s]"
     ]
    },
    {
     "name": "stdout",
     "output_type": "stream",
     "text": [
      "[0 0 1 1 1 0 0 1]\n",
      "tensor([0, 0, 1, 1, 1, 0, 0, 1])\n"
     ]
    },
    {
     "name": "stderr",
     "output_type": "stream",
     "text": [
      "training :  89%|████████▉ | 2501/2800 [36:50<04:22,  1.14 epoch/s]"
     ]
    },
    {
     "name": "stdout",
     "output_type": "stream",
     "text": [
      "[0 0 1 1 1 0 0 1]\n",
      "tensor([0, 0, 1, 1, 1, 0, 0, 1])\n"
     ]
    },
    {
     "name": "stderr",
     "output_type": "stream",
     "text": [
      "training :  93%|█████████▎| 2601/2800 [38:19<02:57,  1.12 epoch/s]"
     ]
    },
    {
     "name": "stdout",
     "output_type": "stream",
     "text": [
      "[0 0 1 1 1 0 0 1]\n",
      "tensor([0, 0, 1, 1, 1, 0, 0, 1])\n"
     ]
    },
    {
     "name": "stderr",
     "output_type": "stream",
     "text": [
      "training :  96%|█████████▋| 2701/2800 [39:47<01:27,  1.13 epoch/s]"
     ]
    },
    {
     "name": "stdout",
     "output_type": "stream",
     "text": [
      "[0 0 1 1 1 0 0 1]\n",
      "tensor([0, 0, 1, 1, 1, 0, 0, 1])\n"
     ]
    },
    {
     "name": "stderr",
     "output_type": "stream",
     "text": [
      "training : 100%|██████████| 2800/2800 [41:15<00:00,  1.13 epoch/s]\n"
     ]
    },
    {
     "name": "stdout",
     "output_type": "stream",
     "text": [
      "tensor([0, 0, 1, 1], device='cuda:0')\n",
      "config 409 y_truth \n",
      "tensor([0, 1, 1, 1])\n",
      "config 409 y_pred with the best model at 2799\n",
      "tensor([0, 0, 1, 1])\n",
      "config 409 y_truth \n",
      "tensor([0, 1, 1, 1])\n",
      "config 409 y_pred \n",
      "tensor([0, 0, 1, 1])\n",
      "CPU times: user 1h 17min 2s, sys: 2h 43min 42s, total: 4h 45s\n",
      "Wall time: 41min 15s\n"
     ]
    }
   ],
   "source": [
    "%%time\n",
    "# %%capture cap\n",
    "config.train()"
   ]
  },
  {
   "cell_type": "code",
   "execution_count": 9,
   "id": "227d1725-158d-43d8-8760-7661506dc2e4",
   "metadata": {},
   "outputs": [],
   "source": [
    "# args_var = vars(args)\n",
    "# print(args_var)\n",
    "# type(args_var)\n",
    "# import pickle\n",
    "# with open('args_var.pkl', 'wb') as file: \n",
    "#     # A new file will be created \n",
    "#     pickle.dump(args_var, file)"
   ]
  },
  {
   "cell_type": "code",
   "execution_count": 10,
   "id": "02f47f3b-a9e1-435f-ae6a-017d5e06fda1",
   "metadata": {},
   "outputs": [],
   "source": [
    "# config.model.parameters()"
   ]
  },
  {
   "cell_type": "code",
   "execution_count": 11,
   "id": "9be842e8-cf93-4c04-987d-86c8adcb0114",
   "metadata": {},
   "outputs": [],
   "source": [
    "# for p in config.model.parameters():\n",
    "#     if p.requires_grad:\n",
    "#          print(p.name, p.data)"
   ]
  },
  {
   "cell_type": "code",
   "execution_count": null,
   "id": "f319ee98-bb25-4b2d-af6a-73918b2f9bc2",
   "metadata": {},
   "outputs": [],
   "source": []
  }
 ],
 "metadata": {
  "kernelspec": {
   "display_name": "Python 3 (ipykernel)",
   "language": "python",
   "name": "python3"
  },
  "language_info": {
   "codemirror_mode": {
    "name": "ipython",
    "version": 3
   },
   "file_extension": ".py",
   "mimetype": "text/x-python",
   "name": "python",
   "nbconvert_exporter": "python",
   "pygments_lexer": "ipython3",
   "version": "3.10.13"
  }
 },
 "nbformat": 4,
 "nbformat_minor": 5
}
