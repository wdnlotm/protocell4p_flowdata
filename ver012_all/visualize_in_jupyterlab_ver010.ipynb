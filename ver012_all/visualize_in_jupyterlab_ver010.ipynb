{
 "cells": [
  {
   "cell_type": "code",
   "execution_count": null,
   "id": "49d1e754-5b67-4cef-bc36-83cb032f5524",
   "metadata": {},
   "outputs": [],
   "source": [
    "from visualize_ipython_ver010 import *\n",
    "from input_args import *"
   ]
  },
  {
   "cell_type": "code",
   "execution_count": null,
   "id": "fd6201ec-0462-44c3-ba3a-dc552836d4d1",
   "metadata": {},
   "outputs": [],
   "source": [
    "#Object to set the model parameters\n",
    "# class arguments_for_visualize:\n",
    "#     def __init__(self,\n",
    "#                  data = \"lupus\", \n",
    "#                  data_loc = \"../data/\",\n",
    "#                  task = None,\n",
    "#                  model = \"ProtoCell\",\n",
    "#                  split_ratio = [0.5, 0.25, 0.25],\n",
    "#                  batch_size = 500,\n",
    "#                  n_proto = 20, \n",
    "#                  h_dim = 128,\n",
    "#                  z_dim = 32,\n",
    "#                  n_layers = 2,\n",
    "#                  d_min = 1.0,\n",
    "#                  gamma = 0.1,\n",
    "#                  device = \"cuda:0\", \n",
    "#                  seed = 123,\n",
    "#                  subsample = False, \n",
    "#                  load_ct = True,\n",
    "#                  keep_sparse = False,\n",
    "#                  checkpoint_dir = \"location\",\n",
    "#                  checkpoint_name = \"best_model.pt\",\n",
    "#                  type = \"total\",\n",
    "#                  n_sample = None,\n",
    "#                  k = 10):\n",
    "#         self.data = data\n",
    "#         self.data_loc = data_loc\n",
    "#         self.task = task\n",
    "#         self.model = model\n",
    "#         self.split_ratio = split_ratio\n",
    "#         self.batch_size = batch_size\n",
    "#         self.n_proto = n_proto\n",
    "#         self.h_dim = h_dim\n",
    "#         self.z_dim = z_dim \n",
    "#         self.n_layers = n_layers\n",
    "#         self.d_min = d_min\n",
    "#         self.gamma = gamma        \n",
    "#         self.device = device\n",
    "#         self.seed = seed\n",
    "#         self.subsample = subsample\n",
    "#         self.load_ct = load_ct\n",
    "#         self.keep_sparse = keep_sparse\n",
    "#         self.checkpoint_dir = checkpoint_dir\n",
    "#         self.checkpoint_name = checkpoint_name\n",
    "#         self.type = type\n",
    "#         self.n_sample = n_sample\n",
    "#         self.k = k"
   ]
  },
  {
   "cell_type": "code",
   "execution_count": null,
   "id": "92657730-8d4f-4a99-bab3-42cfb4c7e936",
   "metadata": {},
   "outputs": [],
   "source": [
    "import pickle\n",
    "with open('args_var.pkl', 'rb') as file: \n",
    "    args_prtcell = pickle.load(file)\n",
    "print(args_prtcell)\n"
   ]
  },
  {
   "cell_type": "code",
   "execution_count": null,
   "id": "52600768-7324-4bb7-bdcc-f1b62d9cba0d",
   "metadata": {},
   "outputs": [],
   "source": [
    "import torch\n",
    "torch.manual_seed(args_prtcell['seed'])\n",
    "torch.cuda.manual_seed(args_prtcell['seed'])"
   ]
  },
  {
   "cell_type": "code",
   "execution_count": null,
   "id": "021c9589-14a7-468e-866d-a8f10b8360bf",
   "metadata": {},
   "outputs": [],
   "source": [
    "#args_prtcell['split_ratio'] = [0.0625,0.0625,0.875]\n",
    "# args_prtcell['exp_str'] = 'protocell_rh2_cf5_tcell_alltype_il1b_16_8'\n",
    "# print(args_prtcell)\n",
    "\n",
    "# checkpoint_dir_str = '../checkpoint/' + args_prtcell['data'] + '/' + args_prtcell['exp_str']\n",
    "# checkpoint_dir_str"
   ]
  },
  {
   "cell_type": "code",
   "execution_count": null,
   "id": "27d781a5-54a5-47ab-b166-1f7c8db92ccf",
   "metadata": {},
   "outputs": [],
   "source": [
    "checkpoint_dir_str = '../checkpoint/' + args_prtcell['data'] + '/' + args_prtcell['exp_str']\n",
    "args = arguments_for_visualize(data = args_prtcell['data'],\n",
    "                               data_loc = args_prtcell['data_loc'],\n",
    "                               model = args_prtcell['model'],\n",
    "                               split_ratio = args_prtcell['split_ratio'],\n",
    "                               batch_size = 1, #args_prtcell['batch_size'],\n",
    "                               n_proto = args_prtcell['n_proto'],\n",
    "                               h_dim = args_prtcell['h_dim'],\n",
    "                               z_dim = args_prtcell['z_dim'],\n",
    "                               n_layers = args_prtcell['n_layers'], \n",
    "                               d_min = args_prtcell['d_min'],\n",
    "                               gamma = 0.1,\n",
    "                               device = args_prtcell['device'],\n",
    "                               seed = args_prtcell['seed'],\n",
    "                               subsample = args_prtcell['subsample'],\n",
    "                               load_ct = args_prtcell['load_ct'],\n",
    "                               checkpoint_dir = checkpoint_dir_str,\n",
    "                               checkpoint_name = 'best_model.pt', #'last_model.pt' best_model.pt\n",
    "                               type = \"sample\", #\"sample\" or \"total\"\n",
    "                               k = 20)  #k = 20, 100"
   ]
  },
  {
   "cell_type": "code",
   "execution_count": null,
   "id": "bd7a90c3-7a63-4e36-b82b-6e63d21d9efa",
   "metadata": {},
   "outputs": [],
   "source": [
    "print(vars(args))"
   ]
  },
  {
   "cell_type": "code",
   "execution_count": null,
   "id": "f45c123d-9c3e-42f1-8325-782d99ed372b",
   "metadata": {},
   "outputs": [],
   "source": [
    "# in Config_eval, put keep_sparse=False in the data_load\n",
    "# in Config_eval, remove .toarray() from x = torch.cat([torch.tensor(x[i].toarray())\n",
    "if args.type == \"total\":\n",
    "    visualize_latent(args, k=args.k)\n",
    "elif args.type == \"sample\":\n",
    "    visualize_latent_sample(args, k=args.k, n_sample=args.n_sample)  "
   ]
  },
  {
   "cell_type": "code",
   "execution_count": null,
   "id": "30a3fca3-224d-4b87-b5e0-ce3bf3ddadac",
   "metadata": {},
   "outputs": [],
   "source": []
  },
  {
   "cell_type": "code",
   "execution_count": null,
   "id": "a331f9e3-95b5-4f1b-a77d-f151d5434145",
   "metadata": {},
   "outputs": [],
   "source": []
  },
  {
   "cell_type": "code",
   "execution_count": null,
   "id": "ebc828bc-8dd1-4857-963a-eb857cc43717",
   "metadata": {},
   "outputs": [],
   "source": [
    "# import seaborn as sns\n",
    "# sns.color_palette(\"tab10\", n_colors = 15)\n",
    "# sns.color_palette(['#e6194B', '#3cb44b', '#ffe119', '#4363d8', '#f58231', '#911eb4', \n",
    "#                    '#42d4f4', '#f032e6', '#bfef45', '#469990', '#dcbeff', \n",
    "#                    '#9A6324',  '#800000',  '#808000',  '#2f4f4f', '#a9a9a9', \n",
    "#                    '#ffd8b1','#000000','#fffac8', '#aaffc3'])"
   ]
  },
  {
   "cell_type": "code",
   "execution_count": null,
   "id": "b93480ad-8fa9-4a4d-a825-83245c43c424",
   "metadata": {},
   "outputs": [],
   "source": []
  },
  {
   "cell_type": "code",
   "execution_count": null,
   "id": "3ed860c9-5bdd-4dd9-ad39-f205680604d3",
   "metadata": {},
   "outputs": [],
   "source": []
  }
 ],
 "metadata": {
  "kernelspec": {
   "display_name": "Python 3 (ipykernel)",
   "language": "python",
   "name": "python3"
  },
  "language_info": {
   "codemirror_mode": {
    "name": "ipython",
    "version": 3
   },
   "file_extension": ".py",
   "mimetype": "text/x-python",
   "name": "python",
   "nbconvert_exporter": "python",
   "pygments_lexer": "ipython3",
   "version": "3.11.4"
  }
 },
 "nbformat": 4,
 "nbformat_minor": 5
}
