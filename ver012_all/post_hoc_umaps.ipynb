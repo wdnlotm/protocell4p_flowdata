{
 "cells": [
  {
   "cell_type": "code",
   "execution_count": null,
   "id": "e90e803b-4d59-4e61-baf9-de4f3a4bba37",
   "metadata": {
    "tags": []
   },
   "outputs": [],
   "source": [
    "import pandas as pd"
   ]
  },
  {
   "cell_type": "code",
   "execution_count": null,
   "id": "afef5736-20ef-4340-bde8-f26d15d72f83",
   "metadata": {},
   "outputs": [],
   "source": [
    "import pickle\n",
    "with open('c_logits_all_data_118884.pkl', 'rb') as file:  #c_logits_all_data_118884#logits_all_data.pkl\n",
    "    logits_recovered = pickle.load(file)"
   ]
  },
  {
   "cell_type": "code",
   "execution_count": null,
   "id": "830fe4d7-6017-42ca-8633-68c3d0dc9592",
   "metadata": {},
   "outputs": [],
   "source": [
    "logits_recovered_array = logits_recovered.cpu().numpy()"
   ]
  },
  {
   "cell_type": "code",
   "execution_count": null,
   "id": "c20cf81c-4c84-401c-b510-b5659ee6349b",
   "metadata": {},
   "outputs": [],
   "source": [
    "logits_recovered_array.shape"
   ]
  },
  {
   "cell_type": "code",
   "execution_count": null,
   "id": "64cb734a-af2d-4daf-b9e0-8fbedd48fd95",
   "metadata": {},
   "outputs": [],
   "source": [
    "logits_recovered_array"
   ]
  },
  {
   "cell_type": "code",
   "execution_count": null,
   "id": "18b888cf-821a-401e-86c5-3ecc852920df",
   "metadata": {
    "tags": []
   },
   "outputs": [],
   "source": [
    "cytof_data_umap = pd.read_csv('cytof_data_umap_allcond.csv')"
   ]
  },
  {
   "cell_type": "code",
   "execution_count": null,
   "id": "bd468350-321c-46d8-8096-d3a4a9a27195",
   "metadata": {
    "tags": []
   },
   "outputs": [],
   "source": [
    "cytof_data_umap_cut = cytof_data_umap.loc[:, ['X1','X2']]"
   ]
  },
  {
   "cell_type": "code",
   "execution_count": null,
   "id": "dd1f3607-0b7e-409b-b7d5-03e8dfe52228",
   "metadata": {
    "tags": []
   },
   "outputs": [],
   "source": [
    "cytof_data_umap_cut.shape"
   ]
  },
  {
   "cell_type": "code",
   "execution_count": null,
   "id": "9cd5b357-0a50-4703-96e9-e5a5762af50c",
   "metadata": {},
   "outputs": [],
   "source": []
  },
  {
   "cell_type": "code",
   "execution_count": 3,
   "id": "713c987c-8623-41ff-9fe4-78e477a03640",
   "metadata": {
    "tags": []
   },
   "outputs": [],
   "source": [
    "import pandas as pd\n",
    "import torch\n",
    "import matplotlib.pyplot as plt\n",
    "import pickle\n",
    "import os"
   ]
  },
  {
   "cell_type": "code",
   "execution_count": 4,
   "id": "0c86fde2-91e6-4c9b-b4ad-95c80954bc2c",
   "metadata": {
    "tags": []
   },
   "outputs": [
    {
     "name": "stdout",
     "output_type": "stream",
     "text": [
      "c_logits_all_data_223162.pkl\n",
      "c_logits_all_data_102217.pkl\n",
      "c_logits_all_data_25799.pkl\n",
      "c_logits_all_data_223449.pkl\n",
      "c_logits_all_data_118884.pkl\n",
      "c_logits_all_data_76057.pkl\n",
      "c_logits_all_data_156563.pkl\n",
      "c_logits_all_data_78892.pkl\n",
      "c_logits_all_data_111811.pkl\n",
      "c_logits_all_data_93515.pkl\n",
      "c_logits_all_data_17351.pkl\n",
      "c_logits_all_data_61938.pkl\n",
      "c_logits_all_data_54582.pkl\n",
      "c_logits_all_data_153867.pkl\n",
      "c_logits_all_data_99436.pkl\n",
      "c_logits_all_data_124755.pkl\n"
     ]
    }
   ],
   "source": [
    "file_list = []\n",
    "for f in os.listdir(\".\"):\n",
    "    if ('c_logits_all_data_' in f):\n",
    "        print(f)\n",
    "        file_list.append(f)"
   ]
  },
  {
   "cell_type": "code",
   "execution_count": 5,
   "id": "d8d6c825-7902-419d-8018-308d771613a9",
   "metadata": {},
   "outputs": [
    {
     "name": "stdout",
     "output_type": "stream",
     "text": [
      "(223162, 2)\n",
      "(102217, 2)\n",
      "(25799, 2)\n",
      "(223449, 2)\n",
      "(118884, 2)\n",
      "(76057, 2)\n",
      "(156563, 2)\n",
      "(78892, 2)\n",
      "(111811, 2)\n",
      "(93515, 2)\n",
      "(17351, 2)\n",
      "(61938, 2)\n",
      "(54582, 2)\n",
      "(153867, 2)\n",
      "(99436, 2)\n",
      "(124755, 2)\n"
     ]
    }
   ],
   "source": [
    "for file_name in file_list:\n",
    "    with open(file_name, 'rb') as file:  #c_logits_all_data_118884#logits_all_data.pkl\n",
    "        logits_recovered = pickle.load(file)\n",
    "    logits_recovered_array = logits_recovered.cpu().numpy()\n",
    "    print(logits_recovered_array.shape)"
   ]
  },
  {
   "cell_type": "code",
   "execution_count": 6,
   "id": "315562e4-d359-4a73-94c3-9efb7d12564d",
   "metadata": {
    "tags": []
   },
   "outputs": [],
   "source": [
    "for file_name in file_list:\n",
    "    with open(file_name, 'rb') as file:  #c_logits_all_data_118884#logits_all_data.pkl\n",
    "        logits_recovered = pickle.load(file)\n",
    "    logits_recovered_array = logits_recovered.cpu().numpy()\n",
    "    df = pd.DataFrame(logits_recovered_array)\n",
    "    df.rename(columns={0: 'For_0', 1: 'For_1'}, inplace=True )\n",
    "    df.to_csv(file_name.replace(\".pkl\",\".csv\"))"
   ]
  },
  {
   "cell_type": "code",
   "execution_count": null,
   "id": "7b555d69-6666-4b91-a5c8-30b2854a448c",
   "metadata": {},
   "outputs": [],
   "source": [
    "import torch\n",
    "# device = torch.device(\"cuda:0\" if torch.cuda.is_available() else \"cpu\")\n",
    "file_name = file_list[0]\n",
    "\n",
    "with open(file_name, 'rb') as file:  #c_logits_all_data_118884#logits_all_data.pkl\n",
    "    logits_recovered = torch.load(file,map_location='cpu') #pickle.load(file)\n",
    "\n",
    "# logits_recovered_array = logits_recovered.cpu().numpy()"
   ]
  },
  {
   "cell_type": "code",
   "execution_count": null,
   "id": "c1be15c1-6667-4778-9b21-9353691cf118",
   "metadata": {
    "tags": []
   },
   "outputs": [],
   "source": [
    "patid_count = pd.read_csv('patid_count.csv')\n",
    "patid_count.iloc[0:3,:]"
   ]
  },
  {
   "cell_type": "code",
   "execution_count": null,
   "id": "a7b8a09c-b4a8-4a72-9bb8-35ea73edea3b",
   "metadata": {
    "tags": []
   },
   "outputs": [],
   "source": [
    "patid = patid_count['patient_id'][patid_count['count'] == int(count_str)]"
   ]
  },
  {
   "cell_type": "code",
   "execution_count": null,
   "id": "5cbc2296-1c28-452f-8ee2-2b52aa551573",
   "metadata": {
    "tags": []
   },
   "outputs": [],
   "source": [
    "patid.iloc[0]"
   ]
  },
  {
   "cell_type": "code",
   "execution_count": null,
   "id": "c8348271-2f97-4850-928a-02e20704a27a",
   "metadata": {
    "tags": []
   },
   "outputs": [],
   "source": [
    "count_str = file_list[0].replace('c_logits_all_data_','').replace('.pkl','')"
   ]
  },
  {
   "cell_type": "code",
   "execution_count": null,
   "id": "bf16ffb2-78e8-47c6-8382-db468f29bf87",
   "metadata": {
    "tags": []
   },
   "outputs": [],
   "source": [
    "int(count_str)"
   ]
  },
  {
   "cell_type": "code",
   "execution_count": null,
   "id": "c1f789a3-6bd2-4a74-9a53-5f7b4f317451",
   "metadata": {
    "tags": []
   },
   "outputs": [],
   "source": []
  },
  {
   "cell_type": "code",
   "execution_count": null,
   "id": "4e26b61c-e465-43aa-8bcd-c02a9284c6c2",
   "metadata": {},
   "outputs": [],
   "source": [
    "file_name = file_list[0]\n",
    "\n",
    "with open(file_name, 'rb') as file:  #c_logits_all_data_118884#logits_all_data.pkl\n",
    "    logits_recovered = pickle.load(file)\n",
    "\n",
    "logits_recovered_array = logits_recovered.cpu().numpy()\n",
    "count_str = file_name.replace('c_logits_all_data_','').replace('.pkl','')\n",
    "patid = patid_count['patient_id'][patid_count['count'] == int(count_str)]\n",
    "patient_id = patid.iloc[0]\n",
    "cytof_data_umap_cut_1 = cytof_data_umap_cut.loc[cytof_data_umap['patient_id']==patient_id,:]\n",
    "#cytof_data_umap_cut_1.shape\n",
    "# plt.scatter(cytof_data_umap_cut_1['X1'], cytof_data_umap_cut_1['X2'], \\\n",
    "#                 s = 2, c = logits_recovered_array[:,0] , alpha = 0.9)\n",
    "# plt.colorbar()\n",
    "\n",
    "fig = plt.figure()\n",
    "ax = fig.add_subplot(111)\n",
    "\n",
    "plt.scatter(cytof_data_umap_cut_1['X1'], cytof_data_umap_cut_1['X2'], \\\n",
    "                s = 2, c = logits_recovered_array[:,0], cmap = 'seismic', alpha = 0.9)\n",
    "plt.colorbar()\n",
    "plt.title(\"Patient \"+ str(patient_id) +\" logit values for IMPRV\")\n",
    "ax.set_aspect(1.5)\n",
    "# plt.savefig(\"umap_fig_logits_\"+str(patient_id)+\"IMPRV.png\")"
   ]
  },
  {
   "cell_type": "code",
   "execution_count": null,
   "id": "c4f980cb-5974-4f6e-91d8-1a22e2bf2762",
   "metadata": {},
   "outputs": [],
   "source": [
    "for file_name in file_list:\n",
    "    with open(file_name, 'rb') as file:  #c_logits_all_data_118884#logits_all_data.pkl\n",
    "        logits_recovered = pickle.load(file)\n",
    "\n",
    "    logits_recovered_array = logits_recovered.cpu().numpy()\n",
    "    count_str = file_name.replace('c_logits_all_data_','').replace('.pkl','')\n",
    "    patid = patid_count['patient_id'][patid_count['count'] == int(count_str)]\n",
    "    patient_id = patid.iloc[0]\n",
    "    cytof_data_umap_cut_1 = cytof_data_umap_cut.loc[cytof_data_umap['patient_id']==patient_id,:]\n",
    "    #cytof_data_umap_cut_1.shape\n",
    "    # plt.scatter(cytof_data_umap_cut_1['X1'], cytof_data_umap_cut_1['X2'], \\\n",
    "    #                 s = 2, c = logits_recovered_array[:,0] , alpha = 0.9)\n",
    "    # plt.colorbar()\n",
    "\n",
    "    fig = plt.figure()\n",
    "    ax = fig.add_subplot(111)\n",
    "\n",
    "    plt.scatter(cytof_data_umap_cut_1['X1'], cytof_data_umap_cut_1['X2'], \\\n",
    "                    s = 2, c = logits_recovered_array[:,1], cmap = 'seismic', alpha = 0.9)\n",
    "    plt.colorbar()\n",
    "    plt.title(\"Patient \"+ str(patient_id) +\" logit values for NoIMP\")\n",
    "    ax.set_aspect(1.5)\n",
    "    plt.savefig(\"umap_fig_logits_\"+str(patient_id)+\"NoIMP.png\")"
   ]
  },
  {
   "cell_type": "code",
   "execution_count": null,
   "id": "981a4117-0e64-45e7-8dd9-6d1cfbbbd199",
   "metadata": {},
   "outputs": [],
   "source": []
  }
 ],
 "metadata": {
  "kernelspec": {
   "display_name": "PyTorch 2.0.1",
   "language": "python",
   "name": "pytorch-2.0.1"
  },
  "language_info": {
   "codemirror_mode": {
    "name": "ipython",
    "version": 3
   },
   "file_extension": ".py",
   "mimetype": "text/x-python",
   "name": "python",
   "nbconvert_exporter": "python",
   "pygments_lexer": "ipython3",
   "version": "3.10.12"
  }
 },
 "nbformat": 4,
 "nbformat_minor": 5
}
