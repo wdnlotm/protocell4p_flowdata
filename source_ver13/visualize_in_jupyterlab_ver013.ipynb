{
 "cells": [
  {
   "cell_type": "code",
   "execution_count": 1,
   "id": "49d1e754-5b67-4cef-bc36-83cb032f5524",
   "metadata": {},
   "outputs": [],
   "source": [
    "from visualize_ipython_ver013 import *\n",
    "from input_args import *"
   ]
  },
  {
   "cell_type": "code",
   "execution_count": null,
   "id": "fd6201ec-0462-44c3-ba3a-dc552836d4d1",
   "metadata": {},
   "outputs": [],
   "source": [
    "#Object to set the model parameters\n",
    "# class arguments_for_visualize:\n",
    "#     def __init__(self,\n",
    "#                  data = \"lupus\", \n",
    "#                  data_loc = \"../data/\",\n",
    "#                  task = None,\n",
    "#                  model = \"ProtoCell\",\n",
    "#                  split_ratio = [0.5, 0.25, 0.25],\n",
    "#                  batch_size = 500,\n",
    "#                  n_proto = 20, \n",
    "#                  h_dim = 128,\n",
    "#                  z_dim = 32,\n",
    "#                  n_layers = 2,\n",
    "#                  d_min = 1.0,\n",
    "#                  gamma = 0.1,\n",
    "#                  device = \"cuda:0\", \n",
    "#                  seed = 123,\n",
    "#                  subsample = False, \n",
    "#                  load_ct = True,\n",
    "#                  keep_sparse = False,\n",
    "#                  checkpoint_dir = \"location\",\n",
    "#                  checkpoint_name = \"best_model.pt\",\n",
    "#                  type = \"total\",\n",
    "#                  n_sample = None,\n",
    "#                  k = 10):\n",
    "#         self.data = data\n",
    "#         self.data_loc = data_loc\n",
    "#         self.task = task\n",
    "#         self.model = model\n",
    "#         self.split_ratio = split_ratio\n",
    "#         self.batch_size = batch_size\n",
    "#         self.n_proto = n_proto\n",
    "#         self.h_dim = h_dim\n",
    "#         self.z_dim = z_dim \n",
    "#         self.n_layers = n_layers\n",
    "#         self.d_min = d_min\n",
    "#         self.gamma = gamma        \n",
    "#         self.device = device\n",
    "#         self.seed = seed\n",
    "#         self.subsample = subsample\n",
    "#         self.load_ct = load_ct\n",
    "#         self.keep_sparse = keep_sparse\n",
    "#         self.checkpoint_dir = checkpoint_dir\n",
    "#         self.checkpoint_name = checkpoint_name\n",
    "#         self.type = type\n",
    "#         self.n_sample = n_sample\n",
    "#         self.k = k"
   ]
  },
  {
   "cell_type": "code",
   "execution_count": 2,
   "id": "92657730-8d4f-4a99-bab3-42cfb4c7e936",
   "metadata": {},
   "outputs": [
    {
     "name": "stdout",
     "output_type": "stream",
     "text": [
      "{'model': 'ProtoCell', 'exp_str': 'Prt_cytof_rh2_cf5_tcell_dim22_allcond_imp_v_noimp_15pt_zd8_50_spt1_sd123', 'data': 'cytof', 'data_loc': '../data/rh2_cf5_tcell_dim22_allcond_imp_v_noimp', 'log_file_name': 'log_2024-05-16_23_11_59_123.txt', 'split_ratio': [0.5, 0.25, 0.25], 'lr': 0.0005, 'max_epoch': 13, 'batch_size': 500, 'test_step': 11, 'h_dim': 16, 'z_dim': 8, 'n_layers': 2, 'n_proto': 15, 'device': 'cuda:0', 'seed': 123, 'task': None, 'subsample': False, 'eval': None, 'load_ct': True, 'd_min': 1.0, 'keep_sparse': False, 'pretrained': False, 'lr_pretrain': 0.01, 'max_epoch_pretrain': 30, 'lambda_1': 1.0, 'lambda_2': 1.0, 'lambda_3': 1.0, 'lambda_4': 1.0, 'lambda_5': 1.0, 'lambda_6': 1.0}\n"
     ]
    }
   ],
   "source": [
    "import pickle\n",
    "with open('args_var_Prt_cytof_rh2_cf5_tcell_dim22_allcond_imp_v_noimp_15pt_zd8_50_spt1_sd123.pkl', 'rb') as file: \n",
    "    args_prtcell = pickle.load(file)\n",
    "print(args_prtcell)"
   ]
  },
  {
   "cell_type": "code",
   "execution_count": 3,
   "id": "52600768-7324-4bb7-bdcc-f1b62d9cba0d",
   "metadata": {},
   "outputs": [],
   "source": [
    "import torch\n",
    "torch.manual_seed(args_prtcell['seed'])\n",
    "torch.cuda.manual_seed(args_prtcell['seed'])"
   ]
  },
  {
   "cell_type": "code",
   "execution_count": 4,
   "id": "021c9589-14a7-468e-866d-a8f10b8360bf",
   "metadata": {},
   "outputs": [
    {
     "data": {
      "text/plain": [
       "'cytof'"
      ]
     },
     "execution_count": 4,
     "metadata": {},
     "output_type": "execute_result"
    }
   ],
   "source": [
    "#args_prtcell['split_ratio'] = [0.0625,0.0625,0.875]\n",
    "# args_prtcell['exp_str'] = 'protocell_rh2_cf5_tcell_alltype_il1b_16_8'\n",
    "# print(args_prtcell)\n",
    "\n",
    "# checkpoint_dir_str = '../checkpoint/' + args_prtcell['data'] + '/' + args_prtcell['exp_str']\n",
    "# checkpoint_dir_str\n",
    "args_prtcell['data']"
   ]
  },
  {
   "cell_type": "code",
   "execution_count": 5,
   "id": "27d781a5-54a5-47ab-b166-1f7c8db92ccf",
   "metadata": {},
   "outputs": [],
   "source": [
    "checkpoint_dir_str = '../checkpoint/' + args_prtcell['data'] + '/' + args_prtcell['exp_str']\n",
    "args = arguments_for_visualize(data = 'cytof_reload', #args_prtcell['data'],\n",
    "                               data_loc = args_prtcell['data_loc'],\n",
    "                               model = args_prtcell['model'],\n",
    "                               split_ratio = args_prtcell['split_ratio'],\n",
    "                               batch_size = 1, #args_prtcell['batch_size'],\n",
    "                               n_proto = args_prtcell['n_proto'],\n",
    "                               h_dim = args_prtcell['h_dim'],\n",
    "                               z_dim = args_prtcell['z_dim'],\n",
    "                               n_layers = args_prtcell['n_layers'], \n",
    "                               d_min = args_prtcell['d_min'],\n",
    "                               gamma = 0.1,\n",
    "                               device = args_prtcell['device'],\n",
    "                               seed = args_prtcell['seed'],\n",
    "                               subsample = args_prtcell['subsample'],\n",
    "                               load_ct = args_prtcell['load_ct'],\n",
    "                               checkpoint_dir = checkpoint_dir_str,\n",
    "                               checkpoint_name = 'model_at_1999.pt', #'last_model.pt' best_model.pt\n",
    "                               type = \"sample\", #\"sample\" or \"total\"\n",
    "                               k = 20)  #k = 20, 100"
   ]
  },
  {
   "cell_type": "code",
   "execution_count": 6,
   "id": "bd7a90c3-7a63-4e36-b82b-6e63d21d9efa",
   "metadata": {},
   "outputs": [
    {
     "name": "stdout",
     "output_type": "stream",
     "text": [
      "{'data': 'cytof_reload', 'data_loc': '../data/rh2_cf5_tcell_dim22_allcond_imp_v_noimp', 'task': None, 'model': 'ProtoCell', 'split_ratio': [0.5, 0.25, 0.25], 'batch_size': 1, 'n_proto': 15, 'h_dim': 16, 'z_dim': 8, 'n_layers': 2, 'd_min': 1.0, 'gamma': 0.1, 'device': 'cuda:0', 'seed': 123, 'subsample': False, 'load_ct': True, 'keep_sparse': False, 'checkpoint_dir': '../checkpoint/cytof/Prt_cytof_rh2_cf5_tcell_dim22_allcond_imp_v_noimp_15pt_zd8_50_spt1_sd123', 'checkpoint_name': 'model_at_1999.pt', 'type': 'sample', 'n_sample': None, 'k': 20}\n",
      "model_at_1999.pt\n"
     ]
    }
   ],
   "source": [
    "print(vars(args))\n",
    "print(args.checkpoint_name)"
   ]
  },
  {
   "cell_type": "code",
   "execution_count": null,
   "id": "77326800",
   "metadata": {},
   "outputs": [],
   "source": [
    "args.checkpoint_name = 'model_at_1999.pt'\n",
    "args.checkpoint_name"
   ]
  },
  {
   "cell_type": "code",
   "execution_count": null,
   "id": "f45c123d-9c3e-42f1-8325-782d99ed372b",
   "metadata": {},
   "outputs": [],
   "source": [
    "####\n",
    "##\n",
    "##   Check config_cytof to hijack and insert data\n",
    "#################################\n",
    "\n",
    "# in Config_eval, put keep_sparse=False in the data_load\n",
    "# in Config_eval, remove .toarray() from x = torch.cat([torch.tensor(x[i].toarray())\n",
    "if args.type == \"total\":\n",
    "    visualize_latent(args, k=args.k)\n",
    "elif args.type == \"sample\":\n",
    "    visualize_latent_sample(args, k=args.k, n_sample=args.n_sample)  "
   ]
  },
  {
   "cell_type": "code",
   "execution_count": 7,
   "id": "30a3fca3-224d-4b87-b5e0-ce3bf3ddadac",
   "metadata": {},
   "outputs": [
    {
     "name": "stdout",
     "output_type": "stream",
     "text": [
      "Checkpoint path: ../checkpoint/cytof/Prt_cytof_rh2_cf5_tcell_dim22_allcond_imp_v_noimp_15pt_zd8_50_spt1_sd123/model_at_2000.pt\n",
      "Reloading the saved data\n",
      "\n",
      " The log file name is log2_testing_model.txt\n",
      "\n",
      " The log file is saved in ../log\n",
      "Test data is hijacked\n"
     ]
    },
    {
     "name": "stderr",
     "output_type": "stream",
     "text": [
      " 33%|███▎      | 1/3 [00:00<00:00,  6.05it/s]"
     ]
    },
    {
     "name": "stdout",
     "output_type": "stream",
     "text": [
      "Config_eval saving import_scores, c_logits, logits\n",
      "Printing c logit shape and saving it\n",
      "model_at_2000.pt\n",
      "223162\n"
     ]
    },
    {
     "name": "stderr",
     "output_type": "stream",
     "text": [
      "100%|██████████| 3/3 [00:00<00:00, 13.19it/s]"
     ]
    },
    {
     "name": "stdout",
     "output_type": "stream",
     "text": [
      "Config_eval saving import_scores, c_logits, logits\n",
      "Printing c logit shape and saving it\n",
      "model_at_2000.pt\n",
      "99436\n",
      "Config_eval saving import_scores, c_logits, logits\n",
      "Printing c logit shape and saving it\n",
      "model_at_2000.pt\n",
      "156563\n"
     ]
    },
    {
     "name": "stderr",
     "output_type": "stream",
     "text": [
      "\n"
     ]
    },
    {
     "name": "stdout",
     "output_type": "stream",
     "text": [
      "Y accuracy: 0.6666666865348816\n",
      "Feb 27 2024\n",
      "model_at_2000\n",
      "223162\n",
      "model_at_2000_223162_1034.png\n",
      "Feb 27 2024\n",
      "model_at_2000\n",
      "99436\n",
      "model_at_2000_99436_1007.png\n",
      "Feb 27 2024\n",
      "model_at_2000\n",
      "156563\n",
      "model_at_2000_156563_1072.png\n",
      "Checkpoint path: ../checkpoint/cytof/Prt_cytof_rh2_cf5_tcell_dim22_allcond_imp_v_noimp_15pt_zd8_50_spt1_sd123/model_at_2500.pt\n",
      "Reloading the saved data\n",
      "\n",
      " The log file name is log2_testing_model.txt\n",
      "\n",
      " The log file is saved in ../log\n",
      "Test data is hijacked\n"
     ]
    },
    {
     "name": "stderr",
     "output_type": "stream",
     "text": [
      "100%|██████████| 3/3 [00:00<00:00, 27.13it/s]"
     ]
    },
    {
     "name": "stdout",
     "output_type": "stream",
     "text": [
      "Config_eval saving import_scores, c_logits, logits\n",
      "Printing c logit shape and saving it\n",
      "model_at_2500.pt\n",
      "223162\n",
      "Config_eval saving import_scores, c_logits, logits\n",
      "Printing c logit shape and saving it\n",
      "model_at_2500.pt\n",
      "99436\n",
      "Config_eval saving import_scores, c_logits, logits\n",
      "Printing c logit shape and saving it\n",
      "model_at_2500.pt\n",
      "156563\n"
     ]
    },
    {
     "name": "stderr",
     "output_type": "stream",
     "text": [
      "\n"
     ]
    },
    {
     "name": "stdout",
     "output_type": "stream",
     "text": [
      "Y accuracy: 0.6666666865348816\n",
      "Feb 27 2024\n",
      "model_at_2500\n",
      "223162\n",
      "model_at_2500_223162_1034.png\n",
      "Feb 27 2024\n",
      "model_at_2500\n",
      "99436\n",
      "model_at_2500_99436_1007.png\n",
      "Feb 27 2024\n",
      "model_at_2500\n",
      "156563\n",
      "model_at_2500_156563_1072.png\n",
      "Checkpoint path: ../checkpoint/cytof/Prt_cytof_rh2_cf5_tcell_dim22_allcond_imp_v_noimp_15pt_zd8_50_spt1_sd123/model_at_3000.pt\n",
      "Reloading the saved data\n",
      "\n",
      " The log file name is log2_testing_model.txt\n",
      "\n",
      " The log file is saved in ../log\n",
      "Test data is hijacked\n"
     ]
    },
    {
     "name": "stderr",
     "output_type": "stream",
     "text": [
      "100%|██████████| 3/3 [00:00<00:00, 31.17it/s]"
     ]
    },
    {
     "name": "stdout",
     "output_type": "stream",
     "text": [
      "Config_eval saving import_scores, c_logits, logits\n",
      "Printing c logit shape and saving it\n",
      "model_at_3000.pt\n",
      "223162\n",
      "Config_eval saving import_scores, c_logits, logits\n",
      "Printing c logit shape and saving it\n",
      "model_at_3000.pt\n",
      "99436\n",
      "Config_eval saving import_scores, c_logits, logits\n",
      "Printing c logit shape and saving it\n",
      "model_at_3000.pt\n",
      "156563\n",
      "Y accuracy: 0.6666666865348816\n",
      "Feb 27 2024\n",
      "model_at_3000\n",
      "223162\n",
      "model_at_3000_223162_1034.png\n",
      "Feb 27 2024\n",
      "model_at_3000\n",
      "99436\n",
      "model_at_3000_99436_1007.png\n",
      "Feb 27 2024\n",
      "model_at_3000\n",
      "156563\n",
      "model_at_3000_156563_1072.png\n"
     ]
    },
    {
     "name": "stderr",
     "output_type": "stream",
     "text": [
      "\n"
     ]
    }
   ],
   "source": [
    "# for ii in [1, 2, 3, 4, 7, 12, 20, 30, 50, 90, 120, 200, 300, 500, 800, 1200, 1600, 1999]:\n",
    "for ii in [2000, 2500, 3000]:\n",
    "    args.checkpoint_name = f'model_at_{ii}.pt'\n",
    "    if args.type == \"total\":\n",
    "        visualize_latent(args, k=args.k)\n",
    "    elif args.type == \"sample\":\n",
    "        visualize_latent_sample(args, k=args.k, n_sample=args.n_sample)  "
   ]
  },
  {
   "cell_type": "code",
   "execution_count": null,
   "id": "a331f9e3-95b5-4f1b-a77d-f151d5434145",
   "metadata": {},
   "outputs": [],
   "source": [
    "a"
   ]
  },
  {
   "cell_type": "code",
   "execution_count": null,
   "id": "ebc828bc-8dd1-4857-963a-eb857cc43717",
   "metadata": {},
   "outputs": [],
   "source": [
    "# import seaborn as sns\n",
    "# sns.color_palette(\"tab10\", n_colors = 15)\n",
    "# sns.color_palette(['#e6194B', '#3cb44b', '#ffe119', '#4363d8', '#f58231', '#911eb4', \n",
    "#                    '#42d4f4', '#f032e6', '#bfef45', '#469990', '#dcbeff', \n",
    "#                    '#9A6324',  '#800000',  '#808000',  '#2f4f4f', '#a9a9a9', \n",
    "#                    '#ffd8b1','#000000','#fffac8', '#aaffc3'])"
   ]
  },
  {
   "cell_type": "code",
   "execution_count": null,
   "id": "b93480ad-8fa9-4a4d-a825-83245c43c424",
   "metadata": {},
   "outputs": [],
   "source": []
  },
  {
   "cell_type": "code",
   "execution_count": null,
   "id": "3ed860c9-5bdd-4dd9-ad39-f205680604d3",
   "metadata": {},
   "outputs": [],
   "source": []
  }
 ],
 "metadata": {
  "kernelspec": {
   "display_name": "Python 3 (ipykernel)",
   "language": "python",
   "name": "python3"
  },
  "language_info": {
   "codemirror_mode": {
    "name": "ipython",
    "version": 3
   },
   "file_extension": ".py",
   "mimetype": "text/x-python",
   "name": "python",
   "nbconvert_exporter": "python",
   "pygments_lexer": "ipython3",
   "version": "3.10.13"
  }
 },
 "nbformat": 4,
 "nbformat_minor": 5
}
